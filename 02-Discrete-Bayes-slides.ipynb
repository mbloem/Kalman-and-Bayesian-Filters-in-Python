{
 "cells": [
  {
   "cell_type": "markdown",
   "metadata": {
    "slideshow": {
     "slide_type": "skip"
    }
   },
   "source": [
    "[Table of Contents](./table_of_contents.ipynb)"
   ]
  },
  {
   "cell_type": "markdown",
   "metadata": {
    "slideshow": {
     "slide_type": "slide"
    }
   },
   "source": [
    "# Discrete Bayes Filter Demo\n",
    "\n",
    "adapted by Michael Bloem  \n",
    "from [Chapter 2: Discrete Bayes](https://nbviewer.jupyter.org/github/rlabbe/Kalman-and-Bayesian-Filters-in-Python/blob/master/02-Discrete-Bayes.ipynb)  \n",
    "of [Kalman & Bayesian Filters in Python](https://nbviewer.jupyter.org/github/rlabbe/Kalman-and-Bayesian-Filters-in-Python/blob/master/table_of_contents.ipynb)  \n",
    "by Roger Labbe"
   ]
  },
  {
   "cell_type": "code",
   "execution_count": 57,
   "metadata": {
    "slideshow": {
     "slide_type": "skip"
    }
   },
   "outputs": [],
   "source": [
    "from __future__ import division, print_function\n",
    "%matplotlib inline"
   ]
  },
  {
   "cell_type": "code",
   "execution_count": 58,
   "metadata": {
    "slideshow": {
     "slide_type": "skip"
    }
   },
   "outputs": [
    {
     "data": {
      "text/html": [
       "\n",
       "        <style>\n",
       "        .output_wrapper, .output {\n",
       "            height:auto !important;\n",
       "            max-height:100000px; \n",
       "        }\n",
       "        .output_scroll {\n",
       "            box-shadow:none !important;\n",
       "            webkit-box-shadow:none !important;\n",
       "        }\n",
       "        </style>\n",
       "    "
      ],
      "text/plain": [
       "<IPython.core.display.HTML object>"
      ]
     },
     "execution_count": 58,
     "metadata": {},
     "output_type": "execute_result"
    }
   ],
   "source": [
    "#format the book\n",
    "import book_format\n",
    "book_format.set_style()"
   ]
  },
  {
   "cell_type": "markdown",
   "metadata": {
    "slideshow": {
     "slide_type": "skip"
    }
   },
   "source": [
    "The Kalman filter belongs to a family of filters called *Bayesian filters*. Most textbook treatments of the Kalman filter present the Bayesian formula, perhaps shows how it factors into the Kalman filter equations, but mostly keeps the discussion at a very abstract level. \n",
    "\n",
    "That approach requires a fairly sophisticated understanding of several fields of mathematics, and it still leaves much of the work of understanding and forming an intuitive grasp of the situation in the hands of the reader.\n",
    "\n",
    "I will use a different way to develop the topic, to which I owe the work of Dieter Fox and Sebastian Thrun a great debt. It depends on building an intuition on how Bayesian statistics work by tracking an object through a hallway - they use a robot, I use a dog. I like dogs, and they are less predictable than robots which imposes interesting difficulties for filtering. The first published example of this that I can find seems to be Fox 1999 [1], with a fuller example in Fox 2003 [2]. Sebastian Thrun also uses this formulation in his excellent Udacity course Artificial Intelligence for Robotics [3]. In fact, if you like watching videos, I highly recommend pausing reading this book in favor of first few lessons of that course, and then come back to this book for a deeper dive into the topic.\n",
    "\n",
    "Let's now use a simple thought experiment, much like we did with the g-h filter, to see how we might reason about the use of probabilities for filtering and tracking."
   ]
  },
  {
   "cell_type": "markdown",
   "metadata": {
    "slideshow": {
     "slide_type": "slide"
    }
   },
   "source": [
    "## Tracking a dog at work\n",
    "\n",
    "![Office diagram](Office_diagram.png \"Office diagram\")"
   ]
  },
  {
   "cell_type": "markdown",
   "metadata": {
    "slideshow": {
     "slide_type": "slide"
    }
   },
   "source": [
    "## Sensors\n"
   ]
  },
  {
   "cell_type": "markdown",
   "metadata": {
    "slideshow": {
     "slide_type": "fragment"
    }
   },
   "source": [
    "Location sensor:  \n",
    "- Reports whether dog is in front of a door or wall\n",
    "- Initially we'll assume it is perfect, but later analyze noisy sensor location sensor measurements"
   ]
  },
  {
   "cell_type": "markdown",
   "metadata": {
    "slideshow": {
     "slide_type": "fragment"
    }
   },
   "source": [
    "Movement direction sensor:  \n",
    "- Reports direction of dog's movement: clockwise or counter-clockwise\n",
    "- We'll assume this movement direction measurement is perfect throughout,<br/>but later analyze cases where the dog moves faster or slower than we assume"
   ]
  },
  {
   "cell_type": "markdown",
   "metadata": {
    "slideshow": {
     "slide_type": "notes"
    }
   },
   "source": [
    "## Tracking a dog\n",
    "\n",
    "Let's begin with a simple problem. We have a dog friendly workspace, and so people bring their dogs to work. Occasionally the dogs wander out of offices and down the halls. We want to be able to track them. So during a hackathon somebody invented a sonar sensor to attach to the dog's collar. It emits a signal, listens for the echo, and based on how quickly an echo comes back we can tell whether the dog is in front of an open doorway or not. It also senses when the dog walks, and reports in which direction the dog has moved. It connects to the network via wifi and sends an update once a second.\n",
    "\n",
    "I want to track my dog Simon, so I attach the device to his collar and then fire up Python, ready to write code to track him through the building. At first blush this may appear impossible. If I start listening to the sensor of Simon's collar I might read **door**, **hall**, **hall**, and so on. How can I use that information to determine where Simon is?\n",
    "\n",
    "To keep the problem small enough to plot easily we will assume that there are only 10 positions in the hallway, which we will number 0 to 9, where 1 is to the right of 0. For reasons that will be clear later, we will also assume that the hallway is circular or rectangular. If you move right from position 9, you will be at position 0.  \n",
    "\n",
    "When I begin listening to the sensor I have no reason to believe that Simon is at any particular position in the hallway. From my perspective he is equally likely to be in any position. There are 10 positions, so the probability that he is in any given position is 1/10. \n",
    "\n",
    "Let's represent our belief of his position in a NumPy array. I could use a Python list, but NumPy arrays offer functionality that we will be using soon."
   ]
  },
  {
   "cell_type": "markdown",
   "metadata": {
    "slideshow": {
     "slide_type": "slide"
    }
   },
   "source": [
    "## Initial beliefs about dog location\n",
    "\n",
    "- Equally likely to be anywhere\n",
    "- 10 locations, so we'll assign an equal probability of $\\frac{1}{10}$ to each\n",
    "- In Bayesian statistics, this distribution is called the *prior*"
   ]
  },
  {
   "cell_type": "code",
   "execution_count": 59,
   "metadata": {
    "slideshow": {
     "slide_type": "fragment"
    }
   },
   "outputs": [
    {
     "name": "stdout",
     "output_type": "stream",
     "text": [
      "[0.1 0.1 0.1 0.1 0.1 0.1 0.1 0.1 0.1 0.1]\n"
     ]
    }
   ],
   "source": [
    "import numpy as np\n",
    "belief = np.array([1./10]*10)\n",
    "print(belief)"
   ]
  },
  {
   "cell_type": "markdown",
   "metadata": {
    "slideshow": {
     "slide_type": "notes"
    }
   },
   "source": [
    "In [Bayesian statistics](https://en.wikipedia.org/wiki/Bayesian_probability) this is called a [*prior*](https://en.wikipedia.org/wiki/Prior_probability). It is the probability prior to incorporating measurements or other information. More completely, this is called the *prior probability distribution*. A [*probability distribution*](https://en.wikipedia.org/wiki/Probability_distribution) is a collection of all possible probabilities for an event. Probability distributions always sum to 1 because something had to happen; the distribution lists all possible events and the probability of each.\n",
    "\n",
    "I'm sure you've used probabilities before - as in \"the probability of rain today is 30%\". The last paragraph sounds like more of that. But Bayesian statistics was a revolution in probability because it treats probability as a belief about a single event. Let's take an example. I know that if I flip a fair coin infinitely many times I will get 50% heads and 50% tails. This is called [*frequentist statistics*](https://en.wikipedia.org/wiki/Frequentist_inference) to distinguish it from Bayesian statistics. Computations are based on the frequency in which events occur.\n",
    "\n",
    "I flip the coin one more time and let it land. Which way do I believe it landed? Frequentist probability has nothing to say about that; it will merely state that 50% of coin flips land as heads. In some ways it is meaningless to assign a probability to the current state of the coin. It is either heads or tails, we just don't know which. Bayes treats this as a belief about a single event - the strength of my belief or knowledge that this specific coin flip is heads is 50%. Some object to the term \"belief\"; belief can imply holding something to be true without evidence. In this book it always is a measure of the strength of our knowledge. We'll learn more about this as we go.\n",
    "\n",
    "Bayesian statistics takes past information (the prior) into account. We observe that it rains 4 times every 100 days. From this I could state that the chance of rain tomorrow is 1/25. This is not how weather prediction is done. If I know it is raining today and the storm front is stalled, it is likely to rain tomorrow. Weather prediction is Bayesian.\n",
    "\n",
    "In practice statisticians use a mix of frequentist and Bayesian techniques. Sometimes finding the prior is difficult or impossible, and frequentist techniques rule. In this book we can find the prior. When I talk about the probability of something I am referring to the probability that some specific thing is true given past events. When I do that I'm taking the Bayesian approach.\n",
    "\n",
    "Now let's create a map of the hallway. We'll place the first two doors close together, and then another door further away. We will use 1 for doors, and 0 for walls:"
   ]
  },
  {
   "cell_type": "markdown",
   "metadata": {
    "slideshow": {
     "slide_type": "slide"
    }
   },
   "source": [
    "## Modeling the world (the hallway)\n",
    "\n",
    "- As simple as recording which locations are doors and which are walls\n",
    "- Use a length-10 vector\n",
    "- 1 for doors\n",
    "- 0 for walls"
   ]
  },
  {
   "cell_type": "markdown",
   "metadata": {
    "slideshow": {
     "slide_type": "fragment"
    }
   },
   "source": [
    "<img src=\"Office_diagram.png\" width=\"500\">"
   ]
  },
  {
   "cell_type": "code",
   "execution_count": 60,
   "metadata": {
    "slideshow": {
     "slide_type": "fragment"
    }
   },
   "outputs": [],
   "source": [
    "hallway = np.array([1, 1, 0, 0, 0, 1, 0, 0, 0, 0])   "
   ]
  },
  {
   "cell_type": "markdown",
   "metadata": {
    "slideshow": {
     "slide_type": "slide"
    }
   },
   "source": [
    "## First location measurement\n",
    "\n",
    "- First location measurement is **door**\n",
    "- For now, assume sensor always returns correct answer\n",
    "- Don't know which door, so assign an equal probability of $\\frac{1}{3}$ to each"
   ]
  },
  {
   "cell_type": "markdown",
   "metadata": {
    "slideshow": {
     "slide_type": "notes"
    }
   },
   "source": [
    "I start listening to Simon's transmissions on the network, and the first data I get from the sensor is **door**. For the moment assume the sensor always returns the correct answer. From this I conclude that he is in front of a door, but which one? I have no reason to believe he is in front of the first, second, or third door. What I can do is assign a probability to each door. All doors are equally likely, and there are three of them, so I assign a probability of 1/3 to each door. "
   ]
  },
  {
   "cell_type": "code",
   "execution_count": 61,
   "metadata": {
    "slideshow": {
     "slide_type": "skip"
    }
   },
   "outputs": [],
   "source": [
    "import kf_book.book_plots as book_plots\n",
    "from kf_book.book_plots import figsize, set_figsize\n",
    "import matplotlib.pyplot as plt"
   ]
  },
  {
   "cell_type": "code",
   "execution_count": 62,
   "metadata": {
    "slideshow": {
     "slide_type": "fragment"
    }
   },
   "outputs": [
    {
     "data": {
      "image/png": "[encoded data removed]",
      "text/plain": [
       "<Figure size 648x288 with 1 Axes>"
      ]
     },
     "metadata": {},
     "output_type": "display_data"
    }
   ],
   "source": [
    "belief = (1/3)*hallway\n",
    "book_plots.bar_plot(belief)"
   ]
  },
  {
   "cell_type": "code",
   "execution_count": 63,
   "metadata": {
    "slideshow": {
     "slide_type": "skip"
    }
   },
   "outputs": [
    {
     "name": "stdout",
     "output_type": "stream",
     "text": [
      "[0.333 0.333 0.    0.    0.    0.333 0.    0.    0.    0.   ]\n"
     ]
    }
   ],
   "source": [
    "belief = hallway * (1./3)\n",
    "print(belief)"
   ]
  },
  {
   "cell_type": "markdown",
   "metadata": {
    "slideshow": {
     "slide_type": "skip"
    }
   },
   "source": [
    "## Extracting information from sensor readings\n",
    "\n",
    "Suppose we get the following sequence of readings:\n",
    "- door\n",
    "- move clockwise\n",
    "- door\n",
    "\n",
    "Where is the dog?"
   ]
  },
  {
   "cell_type": "markdown",
   "metadata": {
    "slideshow": {
     "slide_type": "skip"
    }
   },
   "source": [
    "## Extracting Information from Sensor Readings\n",
    "\n",
    "Let's put Python aside and think about the problem a bit. Suppose we were to read the following from Simon's sensor:\n",
    "\n",
    "  * door\n",
    "  * move right\n",
    "  * door\n",
    "  \n",
    "\n",
    "Can we deduce Simon's location? Of course! Given the hallway's layout there is only one place from which you can get this sequence, and that is at the left end. Therefore we can confidently state that Simon is in front of the second doorway. If this is not clear, suppose Simon had started at the second or third door. After moving to the right, his sensor would have returned 'wall'. That doesn't match the sensor readings, so we know he didn't start there. We can continue with that logic for all the remaining starting positions. The only possibility is that he is now in front of the second door. Our belief is:"
   ]
  },
  {
   "cell_type": "code",
   "execution_count": 64,
   "metadata": {
    "slideshow": {
     "slide_type": "skip"
    }
   },
   "outputs": [],
   "source": [
    "belief = np.array([0., 1., 0., 0., 0., 0., 0., 0., 0., 0.])"
   ]
  },
  {
   "cell_type": "markdown",
   "metadata": {
    "slideshow": {
     "slide_type": "skip"
    }
   },
   "source": [
    "I designed the hallway layout and sensor readings to give us an exact answer quickly. Real problems are not so clear cut. But this should trigger your intuition - the first sensor reading only gave us low probabilities (0.333) for Simon's location, but after a position update and another sensor reading we know more about where he is. You might suspect, correctly, that if you had a very long hallway with a large number of doors that after several sensor readings and positions updates we would either be able to know where Simon was, or have the possibilities narrowed down to a small number of possibilities. This is possible when a set of sensor readings only matches one to a few starting locations.\n",
    "\n",
    "We could implement this solution now, but instead let's consider a real world complication to the problem."
   ]
  },
  {
   "cell_type": "markdown",
   "metadata": {
    "slideshow": {
     "slide_type": "notes"
    }
   },
   "source": [
    "This distribution is called a [*categorical distribution*](https://en.wikipedia.org/wiki/Categorical_distribution), which is a discrete distribution describing the probability of observing $n$ outcomes. It is a [*multimodal distribution*](https://en.wikipedia.org/wiki/Multimodal_distribution) because we have multiple beliefs about the position of our dog. Of course we are not saying that we think he is simultaneously in three different locations, merely that we have narrowed down our knowledge to one of these three locations. My (Bayesian) belief is that there is a 33.3% chance of being at door 0, 33.3% at door 1, and a 33.3% chance of being at door 8.\n",
    "\n",
    "This is an improvement in two ways. I've rejected a number of hallway positions as impossible, and the strength of my belief in the remaining positions has increased from 10% to 33%. This will always happen. As our knowledge improves the probabilities will get closer to 100%.\n",
    "\n",
    "A few words about the [*mode*](https://en.wikipedia.org/wiki/Mode_(statistics&#41;)\n",
    "of a distribution. Given a set of numbers, such as {1, 2, 2, 2, 3, 3, 4}, the *mode* is the number that occurs most often. For this set the mode is 2. A set can contain more than one mode. The set {1, 2, 2, 2, 3, 3, 4, 4, 4} contains the modes 2 and 4, because both occur three times. We say the former set is [*unimodal*](https://en.wikipedia.org/wiki/Unimodality), and the latter is *multimodal*.\n",
    "\n",
    "Another term used for this distribution is a [*histogram*](https://en.wikipedia.org/wiki/Histogram). Histograms graphically depict the distribution of a set of numbers. The bar chart above is a histogram.\n",
    "\n",
    "I hand coded the `belief` array in the code above. How would we implement this in code? We represent doors with 1, and walls as 0, so we will multiply the hallway variable by the percentage, like so;"
   ]
  },
  {
   "cell_type": "markdown",
   "metadata": {
    "slideshow": {
     "slide_type": "slide"
    }
   },
   "source": [
    "## Noisy sensors\n",
    "\n",
    "- Suppose now that our location sensor is noisy\n",
    "- When we get a reading of **door** or **wall**, testing shows the sensor is 3x more likely to be right than wrong"
   ]
  },
  {
   "cell_type": "markdown",
   "metadata": {
    "slideshow": {
     "slide_type": "notes"
    }
   },
   "source": [
    "## Noisy Sensors\n",
    "\n",
    "Perfect sensors are rare. Perhaps the sensor would not detect a door if Simon sat in front of it while scratching himself, or misread if he is not facing down the hallway. Thus when I get **door** I cannot use 1/3 as the probability. I have to assign less than 1/3 to each door, and assign a small probability to each blank wall position. Something like\n",
    "\n",
    "```Python\n",
    "[.31, .31, .01, .01, .01, .01, .01, .01, .31, .01]\n",
    "```\n",
    "\n",
    "At first this may seem insurmountable. If the sensor is noisy it casts doubt on every piece of data. How can we conclude anything if we are always unsure?\n",
    "\n",
    "The answer, as for the problem above, is with probabilities. We are already comfortable assigning a probabilistic belief to the location of the dog; now we have to incorporate the additional uncertainty caused by the sensor noise. \n",
    "\n",
    "Say we get a reading of **door**, and suppose that testing shows that the sensor is 3 times more likely to be right than wrong. We should scale the probability distribution by 3 where there is a door. If we do that the result will no longer be a probability distribution, but we will learn how to fix that in a moment.\n",
    "\n",
    "Let's look at that in Python code. Here I use the variable `z` to denote the measurement. `z` or `y` are customary choices in the literature for the measurement. As a programmer I prefer meaningful variable names, but I want you to be able to read the literature and/or other filtering code, so I will start introducing these abbreviated names now."
   ]
  },
  {
   "cell_type": "code",
   "execution_count": 65,
   "metadata": {
    "slideshow": {
     "slide_type": "fragment"
    }
   },
   "outputs": [],
   "source": [
    "def update_belief(hall, belief, z, correct_scale):\n",
    "    for i, val in enumerate(hall):\n",
    "        if val == z:\n",
    "            belief[i] *= correct_scale"
   ]
  },
  {
   "cell_type": "code",
   "execution_count": 66,
   "metadata": {
    "slideshow": {
     "slide_type": "fragment"
    }
   },
   "outputs": [
    {
     "name": "stdout",
     "output_type": "stream",
     "text": [
      "belief: [0.3 0.3 0.1 0.1 0.1 0.3 0.1 0.1 0.1 0.1]\n",
      "sum = 1.6000000000000005\n"
     ]
    },
    {
     "data": {
      "image/png": "[encoded data removed]",
      "text/plain": [
       "<Figure size 648x288 with 1 Axes>"
      ]
     },
     "metadata": {},
     "output_type": "display_data"
    }
   ],
   "source": [
    "belief = np.array([0.1] * 10)\n",
    "reading = 1 # 1 is 'door'\n",
    "\n",
    "update_belief(hallway, belief, z=reading, correct_scale=3.)\n",
    "\n",
    "print('belief:', belief)\n",
    "print('sum =', sum(belief))\n",
    "\n",
    "plt.figure()\n",
    "book_plots.bar_plot(belief)"
   ]
  },
  {
   "cell_type": "markdown",
   "metadata": {
    "slideshow": {
     "slide_type": "notes"
    }
   },
   "source": [
    "This is not a probability distribution because it does not sum to 1.0. But the code is doing mostly the right thing - the doors are assigned a number (0.3) that is 3 times higher than the walls (0.1). All we need to do is normalize the result so that the probabilities correctly sum to 1.0. Normalization is done by dividing each element by the sum of all elements in the list. That is easy with NumPy:"
   ]
  },
  {
   "cell_type": "markdown",
   "metadata": {
    "slideshow": {
     "slide_type": "subslide"
    }
   },
   "source": [
    "## Normalizing\n",
    "\n",
    "- Our updated belief did not sum to 1, so it is not a probability distribution.\n",
    "- To overcome this, we \"normalize\""
   ]
  },
  {
   "cell_type": "code",
   "execution_count": 67,
   "metadata": {
    "scrolled": true,
    "slideshow": {
     "slide_type": "fragment"
    }
   },
   "outputs": [
    {
     "data": {
      "text/plain": [
       "array([0.187, 0.187, 0.062, 0.062, 0.062, 0.187, 0.062, 0.062, 0.062,\n",
       "       0.062])"
      ]
     },
     "execution_count": 67,
     "metadata": {},
     "output_type": "execute_result"
    }
   ],
   "source": [
    "belief / sum(belief)"
   ]
  },
  {
   "cell_type": "markdown",
   "metadata": {
    "slideshow": {
     "slide_type": "slide"
    }
   },
   "source": [
    "## Refactoring\n",
    "\n",
    "We can refactor our normalized `update_belief` code to be cleaner and more efficient,<br/>and also to show how it implements Bayes' rule."
   ]
  },
  {
   "cell_type": "markdown",
   "metadata": {
    "slideshow": {
     "slide_type": "fragment"
    }
   },
   "source": [
    "Let's specify the probability of the sensor being correct, and compute the scale factor from that.<br/>The equation for that is\n",
    "\n",
    "$$scale =  \\frac{prob_{correct}}{prob_{incorrect}} = \\frac{prob_{correct}} {1-prob_{correct}}$$"
   ]
  },
  {
   "cell_type": "markdown",
   "metadata": {
    "slideshow": {
     "slide_type": "fragment"
    }
   },
   "source": [
    "We can replace the `for` loop with\n",
    "\n",
    "```python\n",
    "belief[hall==z] *= scale\n",
    "```\n",
    "and only the elements which equal `z` will be multiplied by `scale`."
   ]
  },
  {
   "cell_type": "markdown",
   "metadata": {
    "slideshow": {
     "slide_type": "slide"
    }
   },
   "source": [
    "## More refactoring"
   ]
  },
  {
   "cell_type": "markdown",
   "metadata": {
    "slideshow": {
     "slide_type": "fragment"
    }
   },
   "source": [
    "FilterPy implements normalization with the `normalize` function:\n",
    "\n",
    "```Python\n",
    "from filterpy.discrete_bayes import normalize\n",
    "normalize(belief)\n",
    "```"
   ]
  },
  {
   "cell_type": "code",
   "execution_count": 68,
   "metadata": {
    "slideshow": {
     "slide_type": "skip"
    }
   },
   "outputs": [
    {
     "data": {
      "text/plain": [
       "array([ True,  True, False, False, False,  True, False, False, False,\n",
       "       False])"
      ]
     },
     "execution_count": 68,
     "metadata": {},
     "output_type": "execute_result"
    }
   ],
   "source": [
    "hallway == 1"
   ]
  },
  {
   "cell_type": "code",
   "execution_count": 69,
   "metadata": {
    "scrolled": true,
    "slideshow": {
     "slide_type": "skip"
    }
   },
   "outputs": [
    {
     "name": "stdout",
     "output_type": "stream",
     "text": [
      "sum = 0.9999999999999999\n",
      "probability of door = 0.18749999999999997\n",
      "probability of wall = 0.062499999999999986\n"
     ]
    },
    {
     "data": {
      "image/png": "[encoded data removed]",
      "text/plain": [
       "<Figure size 648x288 with 1 Axes>"
      ]
     },
     "metadata": {},
     "output_type": "display_data"
    }
   ],
   "source": [
    "from filterpy.discrete_bayes import normalize\n",
    "\n",
    "def scaled_update(hall, belief, z, z_prob): \n",
    "    scale = z_prob / (1. - z_prob)\n",
    "    belief[hall==z] *= scale\n",
    "    normalize(belief)\n",
    "\n",
    "belief = np.array([0.1] * 10)\n",
    "scaled_update(hallway, belief, z=1, z_prob=.75)\n",
    "\n",
    "print('sum =', sum(belief))\n",
    "print('probability of door =', belief[0])\n",
    "print('probability of wall =', belief[2])\n",
    "book_plots.bar_plot(belief, ylim=(0, .3))"
   ]
  },
  {
   "cell_type": "markdown",
   "metadata": {
    "slideshow": {
     "slide_type": "notes"
    }
   },
   "source": [
    "FilterPy implements this with the `normalize` function:\n",
    "\n",
    "```Python\n",
    "from filterpy.discrete_bayes import normalize\n",
    "normalize(belief)\n",
    "```\n",
    "\n",
    "It is a bit odd to say \"3 times as likely to be right as wrong\". We are working in probabilities, so let's specify the probability of the sensor being correct, and compute the scale factor from that. The equation for that is\n",
    "\n",
    "$$scale =  \\frac{prob_{correct}}{prob_{incorrect}} = \\frac{prob_{correct}} {1-prob_{correct}}$$\n",
    "\n",
    "\n",
    "\n",
    "Also, the `for` loop is cumbersome. As a general rule you will want to avoid using `for` loops in NumPy code. NumPy is implemented in C and Fortran, so if you avoid for loops the result often runs 100x faster than the equivalent loop.\n",
    "\n",
    "How do we get rid of this `for` loop? NumPy lets you index arrays with boolean arrays. You create a boolean array with logical operators. We can find all the doors in the hallway with:"
   ]
  },
  {
   "cell_type": "markdown",
   "metadata": {
    "slideshow": {
     "slide_type": "notes"
    }
   },
   "source": [
    "When you use the boolean array as an index to another array it returns only the elements where the index is `True`. Thus we can replace the `for` loop with\n",
    "\n",
    "```python\n",
    "belief[hall==z] *= scale\n",
    "```\n",
    "and only the elements which equal `z` will be multiplied by `scale`.\n",
    "\n",
    "Teaching you NumPy is beyond the scope of this book. I will use idiomatic NumPy constructs and explain them the first time I present them. If you are new to NumPy there are many blog posts and videos on how to use NumPy efficiently and idiomatically.\n",
    "\n",
    "Here is our improved version:"
   ]
  },
  {
   "cell_type": "markdown",
   "metadata": {
    "slideshow": {
     "slide_type": "slide"
    }
   },
   "source": [
    "## Now refactoring to show Bayes' rule"
   ]
  },
  {
   "cell_type": "markdown",
   "metadata": {
    "slideshow": {
     "slide_type": "fragment"
    }
   },
   "source": [
    "In Bayesian statistics, we call `belief` the **prior**: the probability distribution before including the latest measurement's information."
   ]
  },
  {
   "cell_type": "markdown",
   "metadata": {
    "slideshow": {
     "slide_type": "fragment"
    }
   },
   "source": [
    "When we computed `belief[hall==z] *= scale`, we were computing how *likely* each position was given the measurement.<br/>The resulting **likelihood** is not a probability distribution because it does not sum to one, so we need to divide by a normalization term to get a probability distribution."
   ]
  },
  {
   "cell_type": "markdown",
   "metadata": {
    "slideshow": {
     "slide_type": "fragment"
    }
   },
   "source": [
    "The combination of these gives the Bayes' rule equation:\n",
    "\n",
    "$$\\mathtt{posterior} = \\frac{\\mathtt{likelihood} \\times \\mathtt{prior}}{\\mathtt{normalization}}$$ "
   ]
  },
  {
   "cell_type": "markdown",
   "metadata": {
    "slideshow": {
     "slide_type": "skip"
    }
   },
   "source": [
    "When we talk about the filter's output we typically call the state after performing the prediction the **prior** or **prediction**, and we call the state after the update either the **posterior** or the **estimated state**. "
   ]
  },
  {
   "cell_type": "markdown",
   "metadata": {
    "slideshow": {
     "slide_type": "notes"
    }
   },
   "source": [
    " We can see from the output that the sum is now 1.0, and that the probability of a door vs wall is still three times larger. The result also fits our intuition that the probability of a door must be less than 0.333, and that the probability of a wall must be greater than 0.0. Finally, it should fit our intuition that we have not yet been given any information that would allow us to distinguish between any given door or wall position, so all door positions should have the same value, and the same should be true for wall positions.\n",
    " \n",
    "This result is called the [*posterior*](https://en.wikipedia.org/wiki/Posterior_probability), which is short for *posterior probability distribution*. All this means is a probability distribution *after* incorporating the measurement information (posterior means 'after' in this context). To review, the *prior* is the probability distribution before including the measurement's information. \n",
    "\n",
    "Another term is the [*likelihood*](https://en.wikipedia.org/wiki/Likelihood_function). When we computed `belief[hall==z] *= scale` we were computing how *likely* each position was given the measurement. The likelihood is not a probability distribution because it does not sum to one.\n",
    "\n",
    "The combination of these gives the equation\n",
    "\n",
    "$$\\mathtt{posterior} = \\frac{\\mathtt{likelihood} \\times \\mathtt{prior}}{\\mathtt{normalization}}$$ \n",
    "\n",
    "When we talk about the filter's output we typically call the state after performing the prediction the *prior* or *prediction*, and we call the state after the update either the *posterior* or the *estimated state*. \n",
    "\n",
    "It is very important to learn and internalize these terms as most of the literature uses them extensively.\n",
    "\n",
    "Does `scaled_update()` perform this computation? It does. Let me recast it into this form:"
   ]
  },
  {
   "cell_type": "markdown",
   "metadata": {
    "slideshow": {
     "slide_type": "subslide"
    }
   },
   "source": [
    "Does `scaled_update()` perform this computation? It does. Let me recast it into this form:"
   ]
  },
  {
   "cell_type": "code",
   "execution_count": 70,
   "metadata": {
    "slideshow": {
     "slide_type": "fragment"
    }
   },
   "outputs": [],
   "source": [
    "def scaled_update(hall, belief, z, z_prob): \n",
    "    scale = z_prob / (1. - z_prob)\n",
    "    likelihood = np.ones(len(hall))\n",
    "    likelihood[hall==z] *= scale\n",
    "    return normalize(likelihood * belief)"
   ]
  },
  {
   "cell_type": "markdown",
   "metadata": {
    "slideshow": {
     "slide_type": "notes"
    }
   },
   "source": [
    "This function is not fully general. It contains knowledge about the hallway, and how we match measurements to it. We always strive to write general functions. Here we will remove the computation of the likelihood from the function, and require the caller to compute the likelihood themselves.\n",
    "\n",
    "Here is a full implementation of the algorithm:\n",
    "\n",
    "```python\n",
    "def update(likelihood, prior):\n",
    "    return normalize(likelihood * prior)\n",
    "```\n",
    "\n",
    "Computation of the likelihood varies per problem. For example, the sensor might not return  just 1 or 0, but a `float` between 0 and 1 indicating the probability of being in front of a door. It might use computer vision and report a blob shape that you then probabilistically match to a door. It might use sonar and return a distance reading. In each case the computation of the likelihood will be different. We will see many examples of this throughout the book, and learn how to perform these calculations.\n",
    "\n",
    "FilterPy implements `update`. Here is the previous example in a fully general form:"
   ]
  },
  {
   "cell_type": "markdown",
   "metadata": {
    "slideshow": {
     "slide_type": "fragment"
    }
   },
   "source": [
    "To be even more general, leave it up to the function caller to compute the likelihood, which will vary by application. Then we can have this highly general implementation (provided in `FilterPy`) to update the prior using Bayes' rule:\n",
    "\n",
    "```python\n",
    "def update(likelihood, prior):\n",
    "    return normalize(likelihood * prior)\n",
    "```"
   ]
  },
  {
   "cell_type": "markdown",
   "metadata": {
    "slideshow": {
     "slide_type": "subslide"
    }
   },
   "source": [
    "Computing the likelihood in our application and then using the `update()` function looks like this:"
   ]
  },
  {
   "cell_type": "code",
   "execution_count": 71,
   "metadata": {
    "slideshow": {
     "slide_type": "fragment"
    }
   },
   "outputs": [
    {
     "data": {
      "text/plain": [
       "array([0.187, 0.187, 0.062, 0.062, 0.062, 0.187, 0.062, 0.062, 0.062,\n",
       "       0.062])"
      ]
     },
     "execution_count": 71,
     "metadata": {},
     "output_type": "execute_result"
    }
   ],
   "source": [
    "from filterpy.discrete_bayes import update\n",
    "\n",
    "def lh_hallway(hall, z, z_prob):\n",
    "    \"\"\" compute likelihood that a measurement matches\n",
    "    positions in the hallway.\"\"\"\n",
    "    \n",
    "    try:\n",
    "        scale = z_prob / (1. - z_prob)\n",
    "    except ZeroDivisionError:\n",
    "        scale = 1e8\n",
    "\n",
    "    likelihood = np.ones(len(hall))\n",
    "    likelihood[hall==z] *= scale\n",
    "    return likelihood\n",
    "\n",
    "belief = np.array([0.1] * 10)\n",
    "likelihood = lh_hallway(hallway, z=1, z_prob=.75)\n",
    "update(likelihood, belief)  "
   ]
  },
  {
   "cell_type": "markdown",
   "metadata": {
    "slideshow": {
     "slide_type": "slide"
    }
   },
   "source": [
    "## Recap: using location measurements to update our prior beliefs with Bayes' rule\n",
    "\n",
    "We've shown how to update our beliefs about where the dog is located by using the (noisy) measurement from the location sensor. \n",
    "\n",
    "We used Bayes' rule to perfrom this update."
   ]
  },
  {
   "cell_type": "markdown",
   "metadata": {
    "slideshow": {
     "slide_type": "fragment"
    }
   },
   "source": [
    "What about the movement sensor and our system process model?"
   ]
  },
  {
   "cell_type": "markdown",
   "metadata": {
    "slideshow": {
     "slide_type": "slide"
    }
   },
   "source": [
    "## Quick review of terminology and filtering steps\n",
    "\n",
    "- **system**: what we are trying to model or filter\n",
    "- **state**: system's current configuration or value  \n",
    "(filters produce an **estimate** the system's state as the state changes over time) "
   ]
  },
  {
   "cell_type": "markdown",
   "metadata": {
    "slideshow": {
     "slide_type": "fragment"
    }
   },
   "source": [
    "- **observation** or **measurement**: data describing the system’s state at a point in time\n",
    "- **observation error** or **measurement error**: difference between the observed and actual state"
   ]
  },
  {
   "cell_type": "markdown",
   "metadata": {
    "slideshow": {
     "slide_type": "fragment"
    }
   },
   "source": [
    "- **system process model** or **system dynamics**: mathematical description of how the system state changes over time\n",
    "- **system error** or **process error**: error in process model"
   ]
  },
  {
   "cell_type": "markdown",
   "metadata": {
    "slideshow": {
     "slide_type": "subslide"
    }
   },
   "source": [
    "- **(time) evolution** or **system propagation** of filtering the system state: after some time has passed<br/>(usually a constant period like a second or day)\n",
    "    1. use the process model to **predict** a new state estimate (the **prior**) without the benefit of new sensor measurements\n",
    "    2. **update** the predicted state estimate with new measurements to get the **posterior** state estimate"
   ]
  },
  {
   "cell_type": "markdown",
   "metadata": {
    "slideshow": {
     "slide_type": "subslide"
    }
   },
   "source": [
    "<img src=\"Discrete_Bayes_Filter_Diagram.png\" width=\"1500\">"
   ]
  },
  {
   "cell_type": "code",
   "execution_count": 72,
   "metadata": {
    "slideshow": {
     "slide_type": "skip"
    }
   },
   "outputs": [
    {
     "data": {
      "image/png": "[encoded data removed]",
      "text/plain": [
       "<Figure size 288x288 with 1 Axes>"
      ]
     },
     "metadata": {},
     "output_type": "display_data"
    }
   ],
   "source": [
    "book_plots.predict_update_chart()"
   ]
  },
  {
   "cell_type": "markdown",
   "metadata": {
    "slideshow": {
     "slide_type": "slide"
    }
   },
   "source": [
    "## Incorporating Movement\n",
    "\n",
    "First let's deal with the simple case&mdash;assume the movement sensor is perfect and our system model is perfect.\n",
    "\n",
    "Suppose the movement sensor reports \"clockwise\" for and 1 time unit passes. \n",
    "\n",
    "How would we alter our `belief` array?"
   ]
  },
  {
   "cell_type": "markdown",
   "metadata": {
    "slideshow": {
     "slide_type": "fragment"
    }
   },
   "source": [
    "We should shift all the belief values 1 space to the right."
   ]
  },
  {
   "cell_type": "markdown",
   "metadata": {
    "slideshow": {
     "slide_type": "notes"
    }
   },
   "source": [
    "## Incorporating Movement\n",
    "\n",
    "Recall how quickly we were able to find an exact solution when we incorporated a series of measurements and movement updates. However, that occurred in a fictional world of perfect sensors. Might we be able to find an exact solution with noisy sensors?\n",
    "\n",
    "Unfortunately, the answer is no. Even if the sensor readings perfectly match an extremely complicated hallway map, we cannot be 100% certain that the dog is in a specific position - there is, after all, a tiny possibility that every sensor reading was wrong! Naturally, in a more typical situation most sensor readings will be correct, and we might be close to 100% sure of our answer, but never 100% sure. This may seem complicated, but let's go ahead and program the math.\n",
    "\n",
    "First let's deal with the simple case - assume the movement sensor is perfect, and it reports that the dog has moved one space to the right. How would we alter our `belief` array?\n",
    "\n",
    "I hope that after a moment's thought it is clear that we should shift all the values one space to the right. If we previously thought there was a 50% chance of Simon being at position 3, then after he moved one position to the right we should believe that there is a 50% chance he is at position 4. The hallway is circular, so we will use modulo arithmetic to perform the shift."
   ]
  },
  {
   "cell_type": "code",
   "execution_count": 73,
   "metadata": {
    "slideshow": {
     "slide_type": "fragment"
    }
   },
   "outputs": [
    {
     "data": {
      "image/png": "[encoded data removed]",
      "text/plain": [
       "<Figure size 648x288 with 2 Axes>"
      ]
     },
     "metadata": {},
     "output_type": "display_data"
    }
   ],
   "source": [
    "def perfect_predict(belief, direction, time_steps):\n",
    "    \"\"\" move the position by `time_steps` spaces \n",
    "    in the direction indicated by direction\n",
    "    (+1=clockwise and -1=counter-clockwise)\n",
    "    \"\"\"\n",
    "    move = direction * time_steps\n",
    "    n = len(belief)\n",
    "    result = np.zeros(n)\n",
    "    for i in range(n):\n",
    "        result[i] = belief[(i-move) % n]\n",
    "    return result\n",
    "        \n",
    "belief = np.array([.35, .1, .2, .3, 0, 0, 0, 0, 0, .05])\n",
    "plt.subplot(121)\n",
    "book_plots.bar_plot(belief, title='Before prediction', ylim=(0, .4))\n",
    "\n",
    "belief = perfect_predict(belief, 1, 1)\n",
    "plt.subplot(122)\n",
    "book_plots.bar_plot(belief, title='After prediction', ylim=(0, .4))"
   ]
  },
  {
   "cell_type": "code",
   "execution_count": 74,
   "metadata": {
    "slideshow": {
     "slide_type": "skip"
    }
   },
   "outputs": [
    {
     "data": {
      "application/vnd.jupyter.widget-view+json": {
       "model_id": "421bdbbd123c4dfb84f2f44d5cd8cb46",
       "version_major": 2,
       "version_minor": 0
      },
      "text/plain": [
       "interactive(children=(IntSlider(value=0, description='time_step', max=19), Output()), _dom_classes=('widget-in…"
      ]
     },
     "metadata": {},
     "output_type": "display_data"
    }
   ],
   "source": [
    "from ipywidgets import interact, IntSlider, fixed\n",
    "\n",
    "belief = np.array([.35, .1, .2, .3, 0, 0, 0, 0, 0, .05])\n",
    "beliefs = []\n",
    "\n",
    "for _ in range(20):\n",
    "    # Simon takes one step to the right\n",
    "    belief = perfect_predict(belief, 1, 1)\n",
    "    beliefs.append(belief)\n",
    "\n",
    "def simulate(time_step):\n",
    "    book_plots.bar_plot(beliefs[time_step], ylim=(0, .4))\n",
    "    \n",
    "interact(simulate, time_step=IntSlider(value=0, max=len(beliefs)-1));"
   ]
  },
  {
   "cell_type": "markdown",
   "metadata": {
    "slideshow": {
     "slide_type": "notes"
    }
   },
   "source": [
    "We can see that we correctly shifted all values one position to the right, wrapping from the end of the array back to the beginning. \n",
    "\n",
    "The next cell animates this so you can see it in action. Use the slider to move forwards and backwards in time. This simulates Simon walking around and around the hallway. It does not yet incorporate new measurements so the probability distribution does not change shape, only position."
   ]
  },
  {
   "cell_type": "markdown",
   "metadata": {
    "slideshow": {
     "slide_type": "notes"
    }
   },
   "source": [
    "## Terminology\n",
    "\n",
    "Let's pause a moment to review terminology. I introduced this terminology in the last chapter, but let's take a second to help solidify your knowledge. \n",
    "\n",
    "The *system* is what we are trying to model or filter. Here the system is our dog. The *state* is its current configuration or value. In this chapter the state is our dog's position. We rarely know the actual state, so we say our filters produce the *estimated state* of the system. In practice this often gets called the state, so be careful to understand the context.\n",
    " \n",
    "One cycle of prediction and updating with a measurement is called the state or system *evolution*, which is short for *time evolution* [7]. Another term is *system propagation*. It refers to how the state of the system changes over time. For filters, time is usually a discrete step, such as 1 second. For our dog tracker the system state is the position of the dog, and the state evolution is the position after a discrete amount of time has passed.\n",
    "\n",
    "We model the system behavior with the *process model*. Here, our process model is that the dog moves one or more positions at each time step. This is not a particularly accurate model of how dogs behave. The error in the model is called the *system error* or *process error*. \n",
    "\n",
    "The prediction is our new *prior*. Time has moved forward and we made a prediction without benefit of knowing the measurements. \n",
    "\n",
    "Let's work an example. The current position of the dog is 17 m. Our epoch is 2 seconds long, and the dog is traveling at 15 m/s. Where do we predict he will be in two seconds? \n",
    "\n",
    "Clearly,\n",
    "\n",
    "$$ \\begin{aligned}\n",
    "\\bar x &= 17 + (15*2) \\\\\n",
    "&= 47\n",
    "\\end{aligned}$$\n",
    "\n",
    "I use bars over variables to indicate that they are priors (predictions). We can write the equation for the process model like this:\n",
    "\n",
    "$$ \\bar x_{k+1} = f_x(\\bullet) + x_k$$\n",
    "\n",
    "$x_k$ is the current position or state. If the dog is at 17 m then $x_k = 17$.\n",
    "\n",
    "$f_x(\\bullet)$ is the state propagation function for x. It describes how much the $x_k$ changes over one time step. For our example it performs the computation $15 \\cdot 2$ so we would define it as \n",
    "\n",
    "$$f_x(v_x, t) = v_k t$$."
   ]
  },
  {
   "cell_type": "markdown",
   "metadata": {
    "slideshow": {
     "slide_type": "slide"
    }
   },
   "source": [
    "## Adding uncertainty to predictions of the system model\n",
    "\n",
    "`perfect_predict(belief, direction, time_steps)` assumes that the dog moves at a uniform number of locations per time step.\n",
    "\n",
    "Let's consider that the model might be wrong because the dog might walk faster or slower<br/>(**not** because of errors in the movement direction sensor readings, which we still assume to be perfect).\n",
    "\n",
    "When the sensor reports clockwise movement, then after one time step:\n",
    "- it is 80% likely to be correct (i.e., the dog actually moved one location in the sensed direction)\n",
    "- it is 10% likely to overshoot one position clockwise (because the dog walked faster than the process model assumes)\n",
    "- it is 10% likely to undershoot one position counter clockwise (because the dog walked slower than the process model assumes)"
   ]
  },
  {
   "cell_type": "markdown",
   "metadata": {
    "slideshow": {
     "slide_type": "notes"
    }
   },
   "source": [
    "## Adding Uncertainty to the Prediction\n",
    "\n",
    "`perfect_predict()` assumes perfect measurements, but all sensors have noise. What if the sensor reported that our dog moved one space, but he actually moved two spaces, or zero? This may sound like an insurmountable problem, but let's model it and see what happens.\n",
    "\n",
    "Assume that the sensor's movement measurement is 80% likely to be correct, 10% likely to overshoot one position to the right, and 10% likely to undershoot to the left. That is, if the movement measurement is 4 (meaning 4 spaces to the right), the dog is 80% likely to have moved 4 spaces to the right, 10% to have moved 3 spaces, and 10% to have moved 5 spaces.\n",
    "\n",
    "Each result in the array now needs to incorporate probabilities for 3 different situations. For example, consider the reported movement of 2. If we are 100% certain the dog started from position 3, then there is an 80% chance he is at 5, and a 10% chance for either 4 or 6. Let's try coding that:"
   ]
  },
  {
   "cell_type": "code",
   "execution_count": 75,
   "metadata": {
    "slideshow": {
     "slide_type": "subslide"
    }
   },
   "outputs": [
    {
     "data": {
      "image/png": "[encoded data removed]",
      "text/plain": [
       "<Figure size 648x288 with 2 Axes>"
      ]
     },
     "metadata": {},
     "output_type": "display_data"
    }
   ],
   "source": [
    "def predict_move(belief, direction, time_steps, p_under, p_correct, p_over):\n",
    "    move = direction * time_steps\n",
    "    n = len(belief)\n",
    "    prior = np.zeros(n)\n",
    "    for i in range(n):\n",
    "        prior[i] = (\n",
    "            belief[(i-move) % n]   * p_correct +\n",
    "            belief[(i-move-1) % n] * p_over +\n",
    "            belief[(i-move+1) % n] * p_under)      \n",
    "    return prior\n",
    "\n",
    "belief = [0., 0., 0., 1., 0., 0., 0., 0., 0., 0.]\n",
    "prior = predict_move(belief, 1, 1, .1, .8, .1)\n",
    "book_plots.plot_belief_vs_prior(belief, prior)"
   ]
  },
  {
   "cell_type": "markdown",
   "metadata": {
    "slideshow": {
     "slide_type": "subslide"
    }
   },
   "source": [
    "It appears to work correctly. Now what happens when our belief is not 100% certain?"
   ]
  },
  {
   "cell_type": "code",
   "execution_count": 76,
   "metadata": {
    "slideshow": {
     "slide_type": "fragment"
    }
   },
   "outputs": [
    {
     "data": {
      "text/plain": [
       "array([0.  , 0.  , 0.04, 0.38, 0.52, 0.06, 0.  , 0.  , 0.  , 0.  ])"
      ]
     },
     "execution_count": 76,
     "metadata": {},
     "output_type": "execute_result"
    },
    {
     "data": {
      "image/png": "[encoded data removed]",
      "text/plain": [
       "<Figure size 648x288 with 2 Axes>"
      ]
     },
     "metadata": {},
     "output_type": "display_data"
    }
   ],
   "source": [
    "belief = [0, 0, .4, .6, 0, 0, 0, 0, 0, 0]\n",
    "prior = predict_move(belief, 1, 1, .1, .8, .1)\n",
    "book_plots.plot_belief_vs_prior(belief, prior)\n",
    "prior"
   ]
  },
  {
   "cell_type": "markdown",
   "metadata": {
    "slideshow": {
     "slide_type": "notes"
    }
   },
   "source": [
    "Here the results are more complicated, but you should still be able to work it out in your head. The 0.04 is due to the possibility that the 0.4 belief undershot by 1. The 0.38 is due to the following: the 80% chance that we moved 2 positions (0.4 $\\times$ 0.8) and the 10% chance that we undershot (0.6 $\\times$ 0.1). Overshooting plays no role here because if we overshot both 0.4 and 0.6 would be past this position. **I strongly suggest working some examples until all of this is very clear, as so much of what follows depends on understanding this step.**\n",
    "\n",
    "If you look at the probabilities after performing the update you might be dismayed. In the example above we started with probabilities of 0.4 and 0.6 in two positions; after performing the update the probabilities are not only lowered, but they are strewn out across the map.\n",
    "\n",
    "This is not a coincidence, or the result of a carefully chosen example - it is always true of the prediction. If the sensor is noisy we lose some information on every prediction. Suppose we were to perform the prediction an infinite number of times - what would the result be? If we lose information on every step, we must eventually end up with no information at all, and our probabilities will be equally distributed across the `belief` array. Let's try this with 100 iterations. The plot is animated; use the slider to change the step number."
   ]
  },
  {
   "cell_type": "markdown",
   "metadata": {
    "slideshow": {
     "slide_type": "slide"
    }
   },
   "source": [
    "## Effect of uncertain predictions after many time steps\n",
    "\n",
    "What will happen if we keep predicting one time step at a time based on the (perfect) movement direction sensor and our uncertain predictions based on the system dynamics model and its system error?"
   ]
  },
  {
   "cell_type": "code",
   "execution_count": 77,
   "metadata": {
    "slideshow": {
     "slide_type": "fragment"
    }
   },
   "outputs": [],
   "source": [
    "belief = np.array([1.0, 0, 0, 0, 0, 0, 0, 0, 0, 0])\n",
    "beliefs = []\n",
    "beliefs.append(belief)\n",
    "    \n",
    "for i in range(100):\n",
    "    belief = predict_move(belief, 1, 1, .1, .8, .1)\n",
    "    beliefs.append(belief)"
   ]
  },
  {
   "cell_type": "code",
   "execution_count": 78,
   "metadata": {
    "slideshow": {
     "slide_type": "skip"
    }
   },
   "outputs": [],
   "source": [
    "# fig, ax = plt.subplots(figsize=(10,15))\n",
    "# plt.subplot(511)\n",
    "# book_plots.bar_plot(beliefs[0], title='Initial belief', ylim=(0, 1))\n",
    "# plt.subplot(512)\n",
    "# book_plots.bar_plot(beliefs[5], title='After prediction 5', ylim=(0, 1))\n",
    "# plt.subplot(513)\n",
    "# book_plots.bar_plot(beliefs[10], title='After prediction 10', ylim=(0, 1))\n",
    "# plt.subplot(514)\n",
    "# book_plots.bar_plot(beliefs[20], title='After prediction 20', ylim=(0, 1))\n",
    "# plt.subplot(515)\n",
    "# book_plots.bar_plot(beliefs[50], title='After prediction 50', ylim=(0, 1))"
   ]
  },
  {
   "cell_type": "code",
   "execution_count": 79,
   "metadata": {
    "slideshow": {
     "slide_type": "skip"
    }
   },
   "outputs": [
    {
     "name": "stdout",
     "output_type": "stream",
     "text": [
      "Initial Belief: [1. 0. 0. 0. 0. 0. 0. 0. 0. 0.]\n",
      "Final Belief: [0.104 0.103 0.101 0.099 0.097 0.096 0.097 0.099 0.101 0.103]\n"
     ]
    }
   ],
   "source": [
    "print('Initial Belief:', beliefs[0])\n",
    "print('Final Belief:', belief)"
   ]
  },
  {
   "cell_type": "code",
   "execution_count": 80,
   "metadata": {
    "slideshow": {
     "slide_type": "subslide"
    }
   },
   "outputs": [
    {
     "data": {
      "application/vnd.jupyter.widget-view+json": {
       "model_id": "2a72b05f584d42b78848a9655e12d8a3",
       "version_major": 2,
       "version_minor": 0
      },
      "text/plain": [
       "interactive(children=(IntSlider(value=0, description='step'), Output()), _dom_classes=('widget-interact',))"
      ]
     },
     "metadata": {},
     "output_type": "display_data"
    }
   ],
   "source": [
    "# make interactive plot\n",
    "def show_prior(step):\n",
    "    book_plots.bar_plot(beliefs[step])\n",
    "    plt.title('Step {}'.format(step))\n",
    "\n",
    "interact(show_prior, step=IntSlider(value=0, max=len(beliefs)-1));"
   ]
  },
  {
   "cell_type": "markdown",
   "metadata": {
    "slideshow": {
     "slide_type": "slide"
    }
   },
   "source": [
    "## Effect of uncertain predictions after many time steps"
   ]
  },
  {
   "cell_type": "code",
   "execution_count": 81,
   "metadata": {
    "scrolled": true,
    "slideshow": {
     "slide_type": "fragment"
    }
   },
   "outputs": [
    {
     "name": "stdout",
     "output_type": "stream",
     "text": [
      "Final Belief: [0.104 0.103 0.101 0.099 0.097 0.096 0.097 0.099 0.101 0.103]\n"
     ]
    }
   ],
   "source": [
    "print('Final Belief:', belief)"
   ]
  },
  {
   "cell_type": "markdown",
   "metadata": {
    "slideshow": {
     "slide_type": "fragment"
    }
   },
   "source": [
    "After 100 iterations, we have lost almost all information,<br/>even though we started as 100% certain that the dog was in position 0<br/>and we have a movement sensor that tells us which direction the dog is moving with no error.\n",
    "\n",
    "Why did we become uncertain?"
   ]
  },
  {
   "cell_type": "markdown",
   "metadata": {
    "slideshow": {
     "slide_type": "fragment"
    }
   },
   "source": [
    "Because of our process error!<br/>The dog sometimes walks faster or slower than the assumed one location per time step,<br/>and over time this makes us uncertain about where he is located<br/>(if we get no location measurements)."
   ]
  },
  {
   "cell_type": "markdown",
   "metadata": {
    "slideshow": {
     "slide_type": "skip"
    }
   },
   "source": [
    "## Generalizing with Convolution\n",
    "\n",
    "We made the assumption that the movement error is at most one position. But it is possible for the error to be two, three, or more positions. As programmers we always want to generalize our code so that it works for all cases. \n",
    "\n",
    "This is easily solved with [*convolution*](https://en.wikipedia.org/wiki/Convolution). Convolution modifies one function with another function. In our case we are modifying a probability distribution with the error function of the sensor. The implementation of `predict_move()` is a convolution, though we did not call it that. Formally, convolution is defined as\n",
    "\n",
    "$$ (f \\ast g) (t) = \\int_0^t \\!f(\\tau) \\, g(t-\\tau) \\, \\mathrm{d}\\tau$$\n",
    "\n",
    "where $f\\ast g$ is the notation for convolving f by g. It does not mean multiply.\n",
    "\n",
    "Integrals are for continuous functions, but we are using discrete functions. We replace the integral with a summation, and the parenthesis with array brackets.\n",
    "\n",
    "$$ (f \\ast g) [t] = \\sum\\limits_{\\tau=0}^t \\!f[\\tau] \\, g[t-\\tau]$$\n",
    "\n",
    "Comparison shows that `predict_move()` is computing this equation - it computes the sum of a series of multiplications.\n",
    "\n",
    "[Khan Academy](https://www.khanacademy.org/math/differential-equations/laplace-transform/convolution-integral/v/introduction-to-the-convolution) [4] has a good introduction to convolution, and Wikipedia has some excellent animations of convolutions [5]. But the general idea is already clear. You slide an array called the *kernel* across another array, multiplying the neighbors of the current cell with the values of the second array. In our example above we used 0.8 for the probability of moving to the correct location, 0.1 for undershooting, and 0.1 for overshooting. We make a kernel of this with the array `[0.1, 0.8, 0.1]`. All we need to do is write a loop that goes over each element of our array, multiplying by the kernel, and summing the results. To emphasize that the belief is a probability distribution I have named it `pdf`."
   ]
  },
  {
   "cell_type": "code",
   "execution_count": 82,
   "metadata": {
    "slideshow": {
     "slide_type": "skip"
    }
   },
   "outputs": [],
   "source": [
    "def predict_move_convolution(pdf, direction, time_steps, kernel):\n",
    "    move = direction * time_steps\n",
    "    N = len(pdf)\n",
    "    kN = len(kernel)\n",
    "    width = int((kN - 1) / 2)\n",
    "\n",
    "    prior = np.zeros(N)\n",
    "    for i in range(N):\n",
    "        for k in range (kN):\n",
    "            index = (i + (width-k) - offset) % N\n",
    "            prior[i] += pdf[index] * kernel[k]\n",
    "    return prior"
   ]
  },
  {
   "cell_type": "markdown",
   "metadata": {
    "slideshow": {
     "slide_type": "skip"
    }
   },
   "source": [
    "This illustrates the algorithm, but it runs very slow. SciPy provides a convolution routine `convolve()` in the `ndimage.filters` module. We  need to shift the pdf by `offset` before convolution; `np.roll()` does that. The move and predict algorithm can be implemented with one line:\n",
    "\n",
    "```python\n",
    "convolve(np.roll(pdf, offset), kernel, mode='wrap')\n",
    "```\n",
    "\n",
    "FilterPy implements this with `discrete_bayes`' `predict()` function."
   ]
  },
  {
   "cell_type": "code",
   "execution_count": 83,
   "metadata": {
    "slideshow": {
     "slide_type": "skip"
    }
   },
   "outputs": [
    {
     "data": {
      "image/png": "[encoded data removed]",
      "text/plain": [
       "<Figure size 648x288 with 2 Axes>"
      ]
     },
     "metadata": {},
     "output_type": "display_data"
    }
   ],
   "source": [
    "from filterpy.discrete_bayes import predict\n",
    "\n",
    "belief = [.05, .05, .05, .05, .55, .05, .05, .05, .05, .05]\n",
    "prior = predict(belief, offset=1, kernel=[.1, .8, .1])\n",
    "book_plots.plot_belief_vs_prior(belief, prior, ylim=(0,0.6))"
   ]
  },
  {
   "cell_type": "markdown",
   "metadata": {
    "slideshow": {
     "slide_type": "skip"
    }
   },
   "source": [
    "All of the elements are unchanged except the middle ones. The values in position 4 and 6 should be \n",
    "$$(0.1 \\times 0.05)+ (0.8 \\times 0.05) + (0.1 \\times 0.55) = 0.1$$\n",
    "\n",
    "Position 5 should be $$(0.1 \\times 0.05) + (0.8 \\times 0.55)+ (0.1 \\times 0.05) = 0.45$$\n",
    "\n",
    "Let's ensure that it shifts the positions correctly for movements greater than one and for asymmetric kernels."
   ]
  },
  {
   "cell_type": "code",
   "execution_count": 84,
   "metadata": {
    "slideshow": {
     "slide_type": "skip"
    }
   },
   "outputs": [
    {
     "data": {
      "image/png": "[encoded data removed]",
      "text/plain": [
       "<Figure size 648x288 with 2 Axes>"
      ]
     },
     "metadata": {},
     "output_type": "display_data"
    }
   ],
   "source": [
    "prior = predict(belief, offset=3, kernel=[.05, .05, .6, .2, .1])\n",
    "book_plots.plot_belief_vs_prior(belief, prior, ylim=(0,0.6))"
   ]
  },
  {
   "cell_type": "markdown",
   "metadata": {
    "slideshow": {
     "slide_type": "notes"
    }
   },
   "source": [
    "After 100 iterations we have lost almost all information, even though we were 100% sure that we started in position 0. Feel free to play with the numbers to see the effect of differing number of updates. For example, after 100 updates a small amount of information is left, after 50 a lot is left, but by 200 iterations essentially all information is lost."
   ]
  },
  {
   "cell_type": "markdown",
   "metadata": {
    "slideshow": {
     "slide_type": "notes"
    }
   },
   "source": [
    "And, if you are viewing this online here is an animation of that output.\n",
    "<img src=\"animations/02_no_info.gif\">\n",
    "\n",
    "I will not generate these standalone animations through the rest of the book. Please see the preface for instructions to run this book on the web, for free, or install IPython on your computer. This will allow you to run all of the cells and see the animations. It's very important that you practice with this code, not just read passively."
   ]
  },
  {
   "cell_type": "markdown",
   "metadata": {
    "slideshow": {
     "slide_type": "notes"
    }
   },
   "source": [
    "The position was correctly shifted by 3 positions and we give more weight to the likelihood of an overshoot vs an undershoot, so this looks correct.\n",
    "\n",
    "Make sure you understand what we are doing. We are making a prediction of where the dog is moving, and convolving the probabilities to get the prior.\n",
    "\n",
    "If we weren't using probabilities we would use this equation that I gave earlier:\n",
    "\n",
    "$$ \\bar x_{k+1} = x_k + f_{\\mathbf x}(\\bullet)$$\n",
    "\n",
    "The prior, our prediction of where the dog will be, is the amount the dog moved plus his current position. The dog was at 10, he moved 5 meters, so he is now at 15 m. It couldn't be simpler. But we are using probabilities to model this, so our equation is:\n",
    "\n",
    "$$ \\bar{ \\mathbf x}_{k+1} = \\mathbf x_k \\ast f_{\\mathbf x}(\\bullet)$$\n",
    "\n",
    "We are *convolving* the current probabilistic position estimate with a probabilistic estimate of how much we think the dog moved. It's the same concept, but the math is slightly different. $\\mathbf x$ is bold to denote that it is an array of numbers. "
   ]
  },
  {
   "cell_type": "markdown",
   "metadata": {
    "slideshow": {
     "slide_type": "slide"
    }
   },
   "source": [
    "## Recap: using movement direction measurements and system dynamics to predict a new prior belief for a new time step\n",
    "\n",
    "We've shown how to predict the new prior beliefs about where the dog is located by using the (perfect) movement measurement and our system process model. \n",
    "\n",
    "The system process model has a process error, so our predictions become less and less certain..."
   ]
  },
  {
   "cell_type": "markdown",
   "metadata": {
    "slideshow": {
     "slide_type": "fragment"
    }
   },
   "source": [
    "... unless we can incorporate new measurements as well."
   ]
  },
  {
   "cell_type": "markdown",
   "metadata": {
    "slideshow": {
     "slide_type": "slide"
    }
   },
   "source": [
    "## Integrating measurements and movement updates\n",
    "\n",
    "- The problem of losing information during a prediction may make it seem as if our system would quickly devolve into having no knowledge. \n",
    "- However, each prediction is followed by an update where we incorporate the measurement into the estimate<br/>(the predicted prior from the last prediction step).<br/>The update improves our knowledge. \n",
    "- The output of the update step is fed into the next prediction.<br/>The prediction degrades our certainty. \n",
    "- That predicted prior is passed into another update, where certainty is again increased."
   ]
  },
  {
   "cell_type": "markdown",
   "metadata": {
    "slideshow": {
     "slide_type": "fragment"
    }
   },
   "source": [
    "We've already programmed the prediction and update steps&mdash;we just need to string them together to build this Discrete Bayes Filter!"
   ]
  },
  {
   "cell_type": "markdown",
   "metadata": {
    "slideshow": {
     "slide_type": "subslide"
    }
   },
   "source": [
    "<img src=\"Discrete_Bayes_Filter_Diagram.png\" width=\"1500\">"
   ]
  },
  {
   "cell_type": "code",
   "execution_count": 85,
   "metadata": {
    "scrolled": true,
    "slideshow": {
     "slide_type": "skip"
    }
   },
   "outputs": [
    {
     "data": {
      "image/png": "[encoded data removed]",
      "text/plain": [
       "<Figure size 288x288 with 1 Axes>"
      ]
     },
     "metadata": {},
     "output_type": "display_data"
    }
   ],
   "source": [
    "book_plots.predict_update_chart()"
   ]
  },
  {
   "cell_type": "code",
   "execution_count": 86,
   "metadata": {
    "slideshow": {
     "slide_type": "skip"
    }
   },
   "outputs": [
    {
     "data": {
      "image/png": "[encoded data removed]",
      "text/plain": [
       "<Figure size 648x288 with 2 Axes>"
      ]
     },
     "metadata": {},
     "output_type": "display_data"
    }
   ],
   "source": [
    "from filterpy.discrete_bayes import update\n",
    "\n",
    "hallway = np.array([1, 1, 0, 0, 0, 0, 0, 0, 1, 0])\n",
    "prior = np.array([.1] * 10)\n",
    "likelihood = lh_hallway(hallway, z=1, z_prob=.75)\n",
    "posterior = update(likelihood, prior)\n",
    "book_plots.plot_prior_vs_posterior(prior, posterior, ylim=(0,.5))"
   ]
  },
  {
   "cell_type": "markdown",
   "metadata": {
    "slideshow": {
     "slide_type": "skip"
    }
   },
   "source": [
    "After the first update we have assigned a high probability to each door position, and a low probability to each wall position. "
   ]
  },
  {
   "cell_type": "code",
   "execution_count": 87,
   "metadata": {
    "slideshow": {
     "slide_type": "skip"
    }
   },
   "outputs": [
    {
     "data": {
      "image/png": "[encoded data removed]",
      "text/plain": [
       "<Figure size 648x288 with 2 Axes>"
      ]
     },
     "metadata": {},
     "output_type": "display_data"
    }
   ],
   "source": [
    "kernel = (.1, .8, .1)\n",
    "prior = predict(posterior, 1, kernel)\n",
    "book_plots.plot_prior_vs_posterior(prior, posterior, True, ylim=(0,.5))"
   ]
  },
  {
   "cell_type": "markdown",
   "metadata": {
    "slideshow": {
     "slide_type": "skip"
    }
   },
   "source": [
    "The predict step shifted these probabilities to the right, smearing them about a bit. Now let's look at what happens at the next sense."
   ]
  },
  {
   "cell_type": "code",
   "execution_count": 88,
   "metadata": {
    "slideshow": {
     "slide_type": "skip"
    }
   },
   "outputs": [
    {
     "data": {
      "image/png": "[encoded data removed]",
      "text/plain": [
       "<Figure size 648x288 with 2 Axes>"
      ]
     },
     "metadata": {},
     "output_type": "display_data"
    }
   ],
   "source": [
    "likelihood = lh_hallway(hallway, z=1, z_prob=.75)\n",
    "posterior = update(likelihood, prior)\n",
    "book_plots.plot_prior_vs_posterior(prior, posterior, ylim=(0,.5))"
   ]
  },
  {
   "cell_type": "markdown",
   "metadata": {
    "slideshow": {
     "slide_type": "skip"
    }
   },
   "source": [
    "Notice the tall bar at position 1. This corresponds with the (correct) case of starting at position 0, sensing a door, shifting 1 to the right, and sensing another door. No other positions make this set of observations as likely. Now we will add an update and then sense the wall."
   ]
  },
  {
   "cell_type": "code",
   "execution_count": 89,
   "metadata": {
    "slideshow": {
     "slide_type": "skip"
    }
   },
   "outputs": [
    {
     "data": {
      "image/png": "[encoded data removed]",
      "text/plain": [
       "<Figure size 648x288 with 2 Axes>"
      ]
     },
     "metadata": {},
     "output_type": "display_data"
    }
   ],
   "source": [
    "prior = predict(posterior, 1, kernel)\n",
    "likelihood = lh_hallway(hallway, z=0, z_prob=.75)\n",
    "posterior = update(likelihood, prior)\n",
    "book_plots.plot_prior_vs_posterior(prior, posterior, ylim=(0,.5))"
   ]
  },
  {
   "cell_type": "markdown",
   "metadata": {
    "slideshow": {
     "slide_type": "skip"
    }
   },
   "source": [
    "This is exciting! We have a very prominent bar at position 2 with a value of around 35%. It is over twice the value of any other bar in the plot, and is about 4% larger than our last plot, where the tallest bar was around 31%. Let's see one more cycle."
   ]
  },
  {
   "cell_type": "code",
   "execution_count": 90,
   "metadata": {
    "slideshow": {
     "slide_type": "skip"
    }
   },
   "outputs": [
    {
     "data": {
      "image/png": "[encoded data removed]",
      "text/plain": [
       "<Figure size 648x288 with 2 Axes>"
      ]
     },
     "metadata": {},
     "output_type": "display_data"
    }
   ],
   "source": [
    "prior = predict(posterior, 1, kernel)\n",
    "likelihood = lh_hallway(hallway, z=0, z_prob=.75)\n",
    "posterior = update(likelihood, prior)\n",
    "book_plots.plot_prior_vs_posterior(prior, posterior, ylim=(0,.5))"
   ]
  },
  {
   "cell_type": "markdown",
   "metadata": {
    "slideshow": {
     "slide_type": "skip"
    }
   },
   "source": [
    "I ignored an important issue. Earlier I assumed that we had a motion sensor for the predict step; then, when talking about the dog and the microwave I assumed that you had no knowledge that he suddenly began running. I mentioned that your belief that the dog is running would increase over time, but I did not provide any code for this. In short, how do we detect and/or estimate changes in the process model if we aren't directly measuring it?\n",
    "\n",
    "For now I want to ignore this problem. In later chapters we will learn the mathematics behind this estimation; for now it is a large enough task just to learn this algorithm. It is profoundly important to solve this problem, but we haven't yet built enough of the mathematical apparatus that is required, and so for the remainder of the chapter we will ignore the problem by assuming we have a sensor that senses movement."
   ]
  },
  {
   "cell_type": "markdown",
   "metadata": {
    "slideshow": {
     "slide_type": "skip"
    }
   },
   "source": [
    "## The Discrete Bayes Algorithm\n",
    "\n",
    "This chart illustrates the algorithm:"
   ]
  },
  {
   "cell_type": "code",
   "execution_count": 91,
   "metadata": {
    "slideshow": {
     "slide_type": "skip"
    }
   },
   "outputs": [
    {
     "data": {
      "image/png": "[encoded data removed]",
      "text/plain": [
       "<Figure size 288x288 with 1 Axes>"
      ]
     },
     "metadata": {},
     "output_type": "display_data"
    }
   ],
   "source": [
    "book_plots.predict_update_chart()"
   ]
  },
  {
   "cell_type": "markdown",
   "metadata": {
    "slideshow": {
     "slide_type": "skip"
    }
   },
   "source": [
    "This filter is a form of the g-h filter. Here we are using the percentages for the errors to implicitly compute the $g$ and $h$ parameters. We could express the discrete Bayes algorithm as a g-h filter, but that would obscure the logic of this filter.\n",
    "\n",
    "The filter equations are:\n",
    "\n",
    "$$\\begin{aligned} \\bar {\\mathbf x} &= \\mathbf x \\ast f_{\\mathbf x}(\\bullet)\\, \\, &\\text{Predict Step} \\\\\n",
    "\\mathbf x &= \\|\\mathcal L \\cdot \\bar{\\mathbf x}\\|\\, \\, &\\text{Update Step}\\end{aligned}$$\n",
    "\n",
    "$\\mathcal L$ is the usual way to write the likelihood function, so I use that. The $\\|\\|$ notation denotes taking the norm. We need to normalize the product of the likelihood with the prior to ensure $x$ is a probability distribution that sums to one.\n",
    "\n",
    "We can express this in pseudocode.\n",
    "\n",
    "**Initialization**\n",
    "\n",
    "    1. Initialize our belief in the state\n",
    "    \n",
    "**Predict**\n",
    "\n",
    "    1. Based on the system behavior, predict state for the next time step\n",
    "    2. Adjust belief to account for the uncertainty in prediction\n",
    "    \n",
    "**Update**\n",
    "\n",
    "    1. Get a measurement and associated belief about its accuracy\n",
    "    2. Compute how likely it is the measurement matches each state\n",
    "    3. Update state belief with this likelihood\n",
    "\n",
    "When we cover the Kalman filter we will use this exact same algorithm; only the details of the computation will differ.\n",
    "\n",
    "Algorithms in this form are sometimes called *predictor correctors*. We make a prediction, then correct them.\n",
    "\n",
    "Let's animate this. First Let's write functions to perform the filtering and to plot the results at any step. I've plotted the position of the doorways in black. Prior are drawn in orange, and the posterior in blue. I draw a thick vertical line to indicate where Simon really is. This is not an output of the filter - we know where Simon is only because we are simulating his movement."
   ]
  },
  {
   "cell_type": "markdown",
   "metadata": {
    "slideshow": {
     "slide_type": "slide"
    }
   },
   "source": [
    "## Simulating the Discrete Bayes Filter"
   ]
  },
  {
   "cell_type": "code",
   "execution_count": 92,
   "metadata": {
    "scrolled": true,
    "slideshow": {
     "slide_type": "fragment"
    }
   },
   "outputs": [],
   "source": [
    "def discrete_bayes_sim(prior, kernel, measurements, z_prob, hallway):\n",
    "    # start with a uniform prior\n",
    "    posterior = np.array([.1]*10)\n",
    "    priors, posteriors = [], [] # book keeping\n",
    "    \n",
    "    # Loop over each time step by looping over each measurement\n",
    "    for i, z in enumerate(measurements):\n",
    "        \n",
    "        # use the system dynamics to predict the prior state estimate \n",
    "        # after 1 time step, with a corresponding increase in uncertainty\n",
    "        # The \"kernel\" is how we smear out the probability when predicting\n",
    "        # due to our system error (e.g., the 0.1, 0.8, 0.1 used previously)\n",
    "        prior = predict(posterior, 1, kernel)\n",
    "        priors.append(prior) # book keeping\n",
    "\n",
    "        # compute likelihood that a measurement matches \n",
    "        # positions in the hallway\n",
    "        likelihood = lh_hallway(hallway, z, z_prob)\n",
    "        \n",
    "        # use Bayes' rule to compute the posterior state estimate\n",
    "        # from the prior and the likelihood\n",
    "        posterior = update(likelihood, prior)\n",
    "        posteriors.append(posterior) # book keeping\n",
    "    \n",
    "    return priors, posteriors"
   ]
  },
  {
   "cell_type": "code",
   "execution_count": 93,
   "metadata": {
    "slideshow": {
     "slide_type": "skip"
    }
   },
   "outputs": [],
   "source": [
    "def plot_posterior(posteriors, locs_animate, zs_animate, i):\n",
    "    plt.title('Posterior at time {}\\n(true location index: {})\\n(true location type: {}; location measurement: {})'.format(\n",
    "        i,\n",
    "        locs_animate[i],\n",
    "        'hall' if hallway[locs_animate[i]]==0 else 'door',\n",
    "        'hall' if zs_animate[i]==0 else 'door'\n",
    "    ))\n",
    "    book_plots.bar_plot(hallway, c='k')\n",
    "    book_plots.bar_plot(posteriors[i], ylim=(0, 1.0))\n",
    "    plt.axvline(locs_animate[i], lw=5) \n",
    "    \n",
    "def plot_prior(priors, locs_animate, zs_animate, i):\n",
    "    plt.title('Predicted prior at time {}\\n(true location index: {})\\n '.format(\n",
    "        i,\n",
    "        locs_animate[i],\n",
    "    ))\n",
    "    book_plots.bar_plot(hallway, c='k')\n",
    "    book_plots.bar_plot(priors[i], ylim=(0, 1.0), c='#ff8015')\n",
    "    plt.axvline(locs_animate[i], lw=5)\n",
    "\n",
    "def animate_discrete_bayes(step, locs_animate, zs_animate):\n",
    "    step -= 1\n",
    "    i = step // 2    \n",
    "    if step % 2 == 0:\n",
    "        plot_prior(priors, locs_animate, zs_animate, i)\n",
    "    else:\n",
    "        plot_posterior(posteriors, locs_animate, zs_animate, i)"
   ]
  },
  {
   "cell_type": "markdown",
   "metadata": {
    "slideshow": {
     "slide_type": "slide"
    }
   },
   "source": [
    "## Simulating the Discrete Bayes Filter"
   ]
  },
  {
   "cell_type": "markdown",
   "metadata": {
    "slideshow": {
     "slide_type": "fragment"
    }
   },
   "source": [
    "Let's run the filter and animate it,<br/>\n",
    "first with no measurement noise<br/>\n",
    "and system dynamics of exactly 1 location moved per time step<br/>\n",
    "(and correspondingly assuming no system process noise when predicting)."
   ]
  },
  {
   "cell_type": "code",
   "execution_count": 94,
   "metadata": {
    "slideshow": {
     "slide_type": "slide"
    }
   },
   "outputs": [
    {
     "data": {
      "application/vnd.jupyter.widget-view+json": {
       "model_id": "fd9f318aa91847118a741d245530b093",
       "version_major": 2,
       "version_minor": 0
      },
      "text/plain": [
       "interactive(children=(IntSlider(value=1, description='step'), Output()), _dom_classes=('widget-interact',))"
      ]
     },
     "metadata": {},
     "output_type": "display_data"
    }
   ],
   "source": [
    "# The \"kernel\" is how we smear out the probability when predicting\n",
    "# due to our system error\n",
    "kernel_no_error = (0, 1, 0)\n",
    "# z_prob is used to compute the scale factor in the likelihood \n",
    "# scale = z_prob / (1. - z_prob)\n",
    "# Set to 1 here because no measurement noise\n",
    "z_prob = 1.0\n",
    "# hallway encodes the floorplan\n",
    "hallway = np.array([1, 1, 0, 0, 0, 1, 0, 0, 0, 0])\n",
    "\n",
    "# locations for constant clockwise motion\n",
    "locs = [i % len(hallway) for i in range(50)]\n",
    "\n",
    "# location measurements for constant clockwise motion, one location per time step, and no measurement noise\n",
    "zs = [hallway[locs[i]] for i in range(50)]\n",
    "\n",
    "# run the simulation\n",
    "priors, posteriors = discrete_bayes_sim(prior, kernel_no_error, zs, z_prob, hallway)\n",
    "\n",
    "# visualize the results of the simulation\n",
    "interact(animate_discrete_bayes, step=IntSlider(value=1, max=len(zs)*2), locs_animate=fixed(locs), zs_animate=fixed(zs));"
   ]
  },
  {
   "cell_type": "markdown",
   "metadata": {
    "slideshow": {
     "slide_type": "skip"
    }
   },
   "source": [
    "Now we can see the results. You can see how the prior shifts the position and reduces certainty, and the posterior stays in the same position and increases certainty as it incorporates the information from the measurement. I've made the measurement perfect with the line `z_prob = 1.0`; we will explore the effect of imperfect measurements in the next section. Finally, \n",
    "\n",
    "Another thing to note is how accurate our estimate becomes when we are in front of a door, and how it degrades when in the middle of the hallway. This should make intuitive sense. There are only a few doorways, so when the sensor tells us we are in front of a door this boosts our certainty in our position. A long stretch of no doors reduces our certainty."
   ]
  },
  {
   "cell_type": "markdown",
   "metadata": {
    "slideshow": {
     "slide_type": "skip"
    }
   },
   "source": [
    "## The Effect of Bad Sensor Data\n",
    "\n",
    "You may be suspicious of the results above because I always passed correct sensor data into the functions. However, we are claiming that this code implements a *filter* - it should filter out bad sensor measurements. Does it do that?\n",
    "\n",
    "To make this easy to program and visualize I will change the layout of the hallway to mostly alternating doors and hallways, and run the algorithm on 6 correct measurements:"
   ]
  },
  {
   "cell_type": "markdown",
   "metadata": {
    "slideshow": {
     "slide_type": "slide"
    }
   },
   "source": [
    "## Simulating with sensor measurement errors\n",
    "\n",
    "Now I'll adjust the simulation to incorporate location measurement noise.\n",
    "\n",
    "(I still haven't adjusted the simulation to include the system process error.)"
   ]
  },
  {
   "cell_type": "code",
   "execution_count": 95,
   "metadata": {
    "slideshow": {
     "slide_type": "slide"
    }
   },
   "outputs": [
    {
     "data": {
      "application/vnd.jupyter.widget-view+json": {
       "model_id": "3f2ddc5f2f054ea1a1c0c536c5ca57da",
       "version_major": 2,
       "version_minor": 0
      },
      "text/plain": [
       "interactive(children=(IntSlider(value=1, description='step'), Output()), _dom_classes=('widget-interact',))"
      ]
     },
     "metadata": {},
     "output_type": "display_data"
    }
   ],
   "source": [
    "# The \"kernel\" is how we smear out the probability when predicting\n",
    "# due to our system error\n",
    "kernel_no_error = (0, 1, 0)\n",
    "\n",
    "# z_prob is used to compute the scale factor in the likelihood\n",
    "z_prob_noisy = 0.75\n",
    "\n",
    "# locations for constant clockwise motion\n",
    "locs = [i % len(hallway) for i in range(50)]\n",
    "\n",
    "# add noise to location measurements (consistent with z_prob_noisy)\n",
    "zs_noisy = [hallway[locs[i]] if np.random.uniform()<z_prob_noisy else (0 if hallway[locs[i]]==1 else 1) for i in range(50)]\n",
    "\n",
    "# run the simulation\n",
    "priors, posteriors = discrete_bayes_sim(prior, kernel_no_error, zs_noisy, z_prob_noisy, hallway)\n",
    "\n",
    "# visualize the results of the simulation\n",
    "interact(animate_discrete_bayes, step=IntSlider(value=1, max=len(zs_noisy)*2), locs_animate=fixed(locs), zs_animate=fixed(zs_noisy));"
   ]
  },
  {
   "cell_type": "markdown",
   "metadata": {
    "slideshow": {
     "slide_type": "slide"
    }
   },
   "source": [
    "## Simulating with sensor measurement errors and system dynamics consistent with system process errors\n",
    "\n",
    "Now I'll adjust the simulation to also incorporate system dynamics consistent with the system process error.\n",
    "\n",
    "In other words, sometimes the dog will move 0 locations per time step, sometimes 1 location per time step, and sometimes 2 location per time step."
   ]
  },
  {
   "cell_type": "code",
   "execution_count": 96,
   "metadata": {
    "scrolled": true,
    "slideshow": {
     "slide_type": "slide"
    }
   },
   "outputs": [
    {
     "data": {
      "application/vnd.jupyter.widget-view+json": {
       "model_id": "476a1ebc1736481b9945d08abc74c1f8",
       "version_major": 2,
       "version_minor": 0
      },
      "text/plain": [
       "interactive(children=(IntSlider(value=1, description='step'), Output()), _dom_classes=('widget-interact',))"
      ]
     },
     "metadata": {},
     "output_type": "display_data"
    }
   ],
   "source": [
    "# The \"kernel\" is how we smear out the probability when predicting\n",
    "# due to our system error\n",
    "kernel = (.1, .8, .1)\n",
    "\n",
    "# z_prob is used to compute the scale factor in the likelihood \n",
    "z_prob_noisy = 0.75\n",
    "\n",
    "# locations for constant clockwise motion, this time adjusted in accordance with system process errors\n",
    "# (i.e., the kernel of 0.1, 0.8, 0.1)\n",
    "locs_errors = [0]\n",
    "for i in range(1,50):\n",
    "    uniform_sample = np.random.uniform()\n",
    "    if uniform_sample<kernel[0]:\n",
    "        locs_errors.append(locs_errors[i-1] % len(hallway)) # 10% chance dog moved 0 locations in the last time step\n",
    "    elif uniform_sample<(kernel[0]+kernel[1]):\n",
    "        locs_errors.append((locs_errors[i-1] + 1) % len(hallway)) # 80% chance dog moved exacly 1 location in the last time step\n",
    "    else:\n",
    "        locs_errors.append((locs_errors[i-1] + 2) % len(hallway)) # 10% chance the dog moved 2 locations in the last time step\n",
    "\n",
    "# add noise to location measurements (consistent with z_prob_noisy)\n",
    "zs_errors_noisy = [hallway[locs_errors[i]] if np.random.uniform()<z_prob_noisy else (0 if hallway[locs_errors[i]]==1 else 1) for i in range(50)]\n",
    "\n",
    "# run the simulation\n",
    "priors, posteriors = discrete_bayes_sim(prior, kernel, zs_errors_noisy, z_prob_noisy, hallway)\n",
    "\n",
    "# visualize the results of the simulation\n",
    "interact(animate_discrete_bayes, step=IntSlider(value=1, max=len(zs_errors_noisy)*2), locs_animate=fixed(locs_errors), zs_animate=fixed(zs_errors_noisy));"
   ]
  },
  {
   "cell_type": "markdown",
   "metadata": {
    "slideshow": {
     "slide_type": "skip"
    }
   },
   "source": [
    "## Simulating with system dynamics consistent with system process errors but no sensor measurement errors\n",
    "\n",
    "Now I'll keep the simulation include system dynamics consistent with the system process error, but remove the measurement error.\n",
    "\n",
    "In other words, sometimes the dog will move 0 locations per time step, sometimes 1 location per time step, and sometimes 2 location per time step. But no matter what, the location sensor will report the correct location type (door or hall)."
   ]
  },
  {
   "cell_type": "code",
   "execution_count": 97,
   "metadata": {
    "slideshow": {
     "slide_type": "skip"
    }
   },
   "outputs": [],
   "source": [
    "# The \"kernel\" is how we smear out the probability when predicting\n",
    "# due to our system error\n",
    "# kernel = (.1, .8, .1)\n",
    "\n",
    "# # z_prob is used to compute the scale factor in the likelihood \n",
    "# z_prob_noisy = 1.0\n",
    "\n",
    "# # locations for constant clockwise motion, this time adjusted in accordance with system process errors\n",
    "# # (i.e., the kernel of 0.1, 0.8, 0.1)\n",
    "# locs_errors = [0]\n",
    "# for i in range(1,50):\n",
    "#     uniform_sample = np.random.uniform()\n",
    "#     if uniform_sample<kernel[0]:\n",
    "#         locs_errors.append(locs_errors[i-1] % len(hallway)) # 10% chance dog moved 0 locations in the last time step\n",
    "#     elif uniform_sample<(kernel[0]+kernel[1]):\n",
    "#         locs_errors.append((locs_errors[i-1] + 1) % len(hallway)) # 80% chance dog moved exacly 1 location in the last time step\n",
    "#     else:\n",
    "#         locs_errors.append((locs_errors[i-1] + 2) % len(hallway)) # 10% chance the dog moved 2 locations in the last time step\n",
    "\n",
    "# # add noise to location measurements (consistent with z_prob_noisy)\n",
    "# zs_errors_noisy = [hallway[locs_errors[i]] if np.random.uniform()<z_prob_noisy else (0 if hallway[locs_errors[i]]==1 else 1) for i in range(50)]\n",
    "\n",
    "# # run the simulation\n",
    "# priors, posteriors = discrete_bayes_sim(prior, kernel, zs_errors_noisy, z_prob_noisy, hallway)\n",
    "\n",
    "# # visualize the results of the simulation\n",
    "# interact(animate_discrete_bayes, step=IntSlider(value=1, max=len(zs_errors_noisy)*2), locs_animate=fixed(locs_errors), zs_animate=fixed(zs_errors_noisy));"
   ]
  },
  {
   "cell_type": "code",
   "execution_count": 98,
   "metadata": {
    "slideshow": {
     "slide_type": "skip"
    }
   },
   "outputs": [],
   "source": [
    "# hallway = np.array([1, 0, 1, 0, 0]*2)\n",
    "# kernel = (.1, .8, .1)\n",
    "# prior = np.array([.1] * 10)\n",
    "# zs = [1, 0, 1, 0, 0, 1]\n",
    "# z_prob = 0.75\n",
    "# priors, posteriors = discrete_bayes_sim(prior, kernel, zs, z_prob, hallway)\n",
    "# interact(animate_discrete_bayes, step=IntSlider(value=12, max=len(zs)*2));"
   ]
  },
  {
   "cell_type": "markdown",
   "metadata": {
    "slideshow": {
     "slide_type": "skip"
    }
   },
   "source": [
    "We have identified the likely cases of having started at position 0 or 5, because we saw this sequence of doors and walls: 1,0,1,0,0. Now I inject a bad measurement. The next measurement should be 0, but instead we get a 1:"
   ]
  },
  {
   "cell_type": "code",
   "execution_count": 99,
   "metadata": {
    "slideshow": {
     "slide_type": "skip"
    }
   },
   "outputs": [],
   "source": [
    "# measurements = [1, 0, 1, 0, 0, 1, 1]\n",
    "# priors, posteriors = discrete_bayes_sim(prior, kernel, measurements, z_prob, hallway);\n",
    "# plot_posterior(posteriors, 6)"
   ]
  },
  {
   "cell_type": "markdown",
   "metadata": {
    "slideshow": {
     "slide_type": "skip"
    }
   },
   "source": [
    "That one bad measurement has significantly eroded our knowledge. Now let's continue with a series of correct measurements."
   ]
  },
  {
   "cell_type": "code",
   "execution_count": 100,
   "metadata": {
    "slideshow": {
     "slide_type": "skip"
    }
   },
   "outputs": [],
   "source": [
    "# with figsize(y=5.5):\n",
    "#     measurements = [1, 0, 1, 0, 0, 1, 1, 1, 0, 0]\n",
    "#     for i, m in enumerate(measurements):\n",
    "#         likelihood = lh_hallway(hallway, z=m, z_prob=.75)\n",
    "#         posterior = update(likelihood, prior)\n",
    "#         prior = predict(posterior, 1, kernel)\n",
    "#         plt.subplot(5, 2, i+1)\n",
    "#         book_plots.bar_plot(posterior, ylim=(0, .4), title='step {}'.format(i+1))\n",
    "#     plt.tight_layout()"
   ]
  },
  {
   "cell_type": "markdown",
   "metadata": {
    "slideshow": {
     "slide_type": "skip"
    }
   },
   "source": [
    "We quickly filtered out the bad sensor reading and converged on the most likely positions for our dog."
   ]
  },
  {
   "cell_type": "markdown",
   "metadata": {
    "slideshow": {
     "slide_type": "skip"
    }
   },
   "source": [
    "## Drawbacks and Limitations\n",
    "\n",
    "Do not be mislead by the simplicity of the examples I chose. This is a robust and complete filter, and you may use the code in real world solutions. If you need a multimodal, discrete filter, this filter works.\n",
    "\n",
    "With that said, this filter it is not used often because it has several limitations. Getting around those limitations is the motivation behind the chapters in the rest of this book.\n",
    "\n",
    "The first problem is scaling. Our dog tracking problem used only one variable, $pos$, to denote the dog's position. Most interesting problems will want to track several things in a large space. Realistically, at a minimum we would want to track our dog's $(x,y)$ coordinate, and probably his velocity $(\\dot{x},\\dot{y})$ as well. We have not covered the multidimensional case, but instead of an array we use a multidimensional grid to store the probabilities at each discrete location. Each `update()` and `predict()` step requires updating all values in the grid, so a simple four variable problem would require $O(n^4)$ running time *per time step*. Realistic filters can have 10 or more variables to track, leading to exorbitant computation requirements.\n",
    "\n",
    "The second problem is that the filter is discrete, but we live in a continuous world. The histogram requires that you model the output of your filter as a set of discrete points. A 100 meter hallway requires 10,000 positions to model the hallway to 1cm accuracy. So each update and predict operation would entail performing calculations for 10,000 different probabilities. It gets exponentially worse as we add dimensions. A 100x100 m$^2$ courtyard requires 100,000,000 bins to get 1cm accuracy.\n",
    "\n",
    "A third problem is that the filter is multimodal. In the last example we ended up with strong beliefs that the dog was in position 4 or 9. This is not always a problem. Particle filters, which we will study later, are multimodal and are often used because of this property. But imagine if the GPS in your car reported to you that it is 40% sure that you are on D street, and 30% sure you are on Willow Avenue. \n",
    "\n",
    "A forth problem is that it requires a measurement of the change in state. We need a motion sensor to detect how much the dog moves. There are ways to work around this problem, but it would complicate the exposition of this chapter, so, given the aforementioned problems, I will not discuss it further.\n",
    "\n",
    "With that said, if I had a small problem that this technique could handle I would choose to use it; it is trivial to implement, debug, and understand, all virtues."
   ]
  },
  {
   "cell_type": "markdown",
   "metadata": {
    "slideshow": {
     "slide_type": "skip"
    }
   },
   "source": [
    "## Tracking and Control\n",
    "\n",
    "We have been passively tracking an autonomously moving object. But consider this very similar problem. I am automating a warehouse and want to use robots to collect all of the items for a customer's order. Perhaps the easiest way to do this is to have the robots travel on a train track. I want to be able to send the robot a destination and have it go there. But train tracks and robot motors are imperfect. Wheel slippage and imperfect motors means that the robot is unlikely to travel to exactly the position you command. There is more than one robot, and we need to know where they all are so we do not cause them to crash.\n",
    "\n",
    "So we add sensors. Perhaps we mount magnets on the track every few feet, and use a Hall sensor to count how many magnets are passed. If we count 10 magnets then the robot should be at the 10th magnet. Of course it is possible to either miss a magnet or to count it twice, so we have to accommodate some degree of error. We can use the code from the previous section to track our robot since magnet counting is very similar to doorway sensing.\n",
    "\n",
    "But we are not done. We've learned to never throw information away. If you have information you should use it to improve your estimate. What information are we leaving out? We know what control inputs we are feeding to the wheels of the robot at each moment in time. For example, let's say that once a second we send a movement command to the robot - move left 1 unit, move right 1 unit, or stand still.  If I send the command 'move left 1 unit' I expect that in one second from now the robot will be 1 unit to the left of where it is now. This is a simplification because I am not taking acceleration into account, but I am not trying to teach control theory. Wheels and motors are imperfect. The robot might end up 0.9 units away, or maybe 1.2 units. \n",
    "\n",
    "Now the entire solution is clear. We assumed that the dog kept moving in whatever direction he was previously moving. That is a dubious assumption for my dog! Robots are far more predictable. Instead of making a dubious prediction based on assumption of behavior we will feed in the command that we sent to the robot! In other words, when we call `predict()` we will pass in the commanded movement that we gave the robot along with a kernel that describes the likelihood  of that movement."
   ]
  },
  {
   "cell_type": "markdown",
   "metadata": {
    "slideshow": {
     "slide_type": "skip"
    }
   },
   "source": [
    "### Simulating the Train Behavior\n",
    "\n",
    "We need to simulate an imperfect train. When we command it to move it will sometimes make a small mistake, and its sensor will sometimes return the incorrect value."
   ]
  },
  {
   "cell_type": "code",
   "execution_count": 101,
   "metadata": {
    "slideshow": {
     "slide_type": "skip"
    }
   },
   "outputs": [],
   "source": [
    "# class Train(object):\n",
    "\n",
    "#     def __init__(self, track_len, kernel=[1.], sensor_accuracy=.9):\n",
    "#         self.track_len = track_len\n",
    "#         self.pos = 0\n",
    "#         self.kernel = kernel\n",
    "#         self.sensor_accuracy = sensor_accuracy\n",
    "\n",
    "#     def move(self, distance=1):\n",
    "#         \"\"\" move in the specified direction\n",
    "#         with some small chance of error\"\"\"\n",
    "\n",
    "#         self.pos += distance\n",
    "#         # insert random movement error according to kernel\n",
    "#         r = random.random()\n",
    "#         s = 0\n",
    "#         offset = -(len(self.kernel) - 1) / 2\n",
    "#         for k in self.kernel:\n",
    "#             s += k\n",
    "#             if r <= s:\n",
    "#                 break\n",
    "#             offset += 1\n",
    "#         self.pos = int((self.pos + offset) % self.track_len)\n",
    "#         return self.pos\n",
    "\n",
    "#     def sense(self):\n",
    "#         pos = self.pos\n",
    "#          # insert random sensor error\n",
    "#         if random.random() > self.sensor_accuracy:\n",
    "#             if random.random() > 0.5:\n",
    "#                 pos += 1\n",
    "#             else:\n",
    "#                 pos -= 1\n",
    "#         return pos"
   ]
  },
  {
   "cell_type": "markdown",
   "metadata": {
    "slideshow": {
     "slide_type": "skip"
    }
   },
   "source": [
    "With that we are ready to write the filter. We will put it in a function so that we can run it with different assumptions. I will assume that the robot always starts at the beginning of the track. The track is implemented as being 10 units long, but think of it as a track of length, say 10,000, with the magnet pattern repeated every 10 units. A length of 10 makes it easier to plot and inspect."
   ]
  },
  {
   "cell_type": "code",
   "execution_count": 102,
   "metadata": {
    "slideshow": {
     "slide_type": "skip"
    }
   },
   "outputs": [],
   "source": [
    "# def train_filter(iterations, kernel, sensor_accuracy, \n",
    "#              move_distance, do_print=True):\n",
    "#     track = np.array([0, 1, 2, 3, 4, 5, 6, 7, 8, 9])\n",
    "#     prior = np.array([.9] + [0.01]*9)\n",
    "#     posterior = prior[:]\n",
    "#     normalize(prior)\n",
    "    \n",
    "#     robot = Train(len(track), kernel, sensor_accuracy)\n",
    "#     for i in range(iterations):\n",
    "#         # move the robot and\n",
    "#         robot.move(distance=move_distance)\n",
    "\n",
    "#         # peform prediction\n",
    "#         prior = predict(posterior, move_distance, kernel)       \n",
    "\n",
    "#         #  and update the filter\n",
    "#         m = robot.sense()\n",
    "#         likelihood = lh_hallway(track, m, sensor_accuracy)\n",
    "#         posterior = update(likelihood, prior)\n",
    "#         index = np.argmax(posterior)\n",
    "\n",
    "#         if do_print:\n",
    "#             print('''time {}: pos {}, sensed {}, '''\n",
    "#                   '''at position {}'''.format(\n",
    "#                     i, robot.pos, m, track[robot.pos]))\n",
    "\n",
    "#             print('''        estimated position is {}'''\n",
    "#                   ''' with confidence {:.4f}%:'''.format(\n",
    "#                   index, posterior[index]*100))            \n",
    "\n",
    "#     book_plots.bar_plot(posterior)\n",
    "#     if do_print:\n",
    "#         print()\n",
    "#         print('final position is', robot.pos)\n",
    "#         index = np.argmax(posterior)\n",
    "#         print('''Estimated position is {} with '''\n",
    "#               '''confidence {:.4f}%:'''.format(\n",
    "#                 index, posterior[index]*100))"
   ]
  },
  {
   "cell_type": "markdown",
   "metadata": {
    "slideshow": {
     "slide_type": "skip"
    }
   },
   "source": [
    "Read the code and make sure you understand it. Now let's do a run with no sensor or movement error. If the code is correct it should be able to locate the robot with no error. The output is a bit tedious to read, but if you are at all unsure of how the update/predict cycle works make sure you read through it carefully to solidify your understanding."
   ]
  },
  {
   "cell_type": "code",
   "execution_count": 103,
   "metadata": {
    "slideshow": {
     "slide_type": "skip"
    }
   },
   "outputs": [],
   "source": [
    "# import random\n",
    "\n",
    "# random.seed(3)\n",
    "# np.set_printoptions(precision=2, suppress=True, linewidth=60)\n",
    "# train_filter(4, kernel=[1.], sensor_accuracy=.999,\n",
    "#              move_distance=4, do_print=True)"
   ]
  },
  {
   "cell_type": "markdown",
   "metadata": {
    "slideshow": {
     "slide_type": "skip"
    }
   },
   "source": [
    "We can see that the code was able to perfectly track the robot so we should feel reasonably confident that the code is working. Now let's see how it fairs with some errors. "
   ]
  },
  {
   "cell_type": "code",
   "execution_count": 104,
   "metadata": {
    "slideshow": {
     "slide_type": "skip"
    }
   },
   "outputs": [],
   "source": [
    "# random.seed(5)\n",
    "# train_filter(4, kernel=[.1, .8, .1], sensor_accuracy=.9,\n",
    "#          move_distance=4, do_print=True)"
   ]
  },
  {
   "cell_type": "markdown",
   "metadata": {
    "slideshow": {
     "slide_type": "skip"
    }
   },
   "source": [
    "There was a sensing error at time 1, but we are still quite confident in our position. \n",
    "\n",
    "Now let's run a very long simulation and see how the filter responds to errors."
   ]
  },
  {
   "cell_type": "code",
   "execution_count": 105,
   "metadata": {
    "slideshow": {
     "slide_type": "skip"
    }
   },
   "outputs": [],
   "source": [
    "# with figsize(y=5.5):\n",
    "#     for i in range (4):\n",
    "#         random.seed(3)\n",
    "#         plt.subplot(221+i)\n",
    "#         train_filter(148+i, kernel=[.1, .8, .1], \n",
    "#                      sensor_accuracy=.8,\n",
    "#                      move_distance=4, do_print=False)\n",
    "#         plt.title ('iteration {}'.format(148+i))"
   ]
  },
  {
   "cell_type": "markdown",
   "metadata": {
    "slideshow": {
     "slide_type": "skip"
    }
   },
   "source": [
    "We can see that there was a problem on iteration 149 as the confidence degrades. But within a few iterations the filter is able to correct itself and regain confidence in the estimated position."
   ]
  },
  {
   "cell_type": "markdown",
   "metadata": {
    "slideshow": {
     "slide_type": "skip"
    }
   },
   "source": [
    "## Bayes Theorem and the Total Probability Theorem"
   ]
  },
  {
   "cell_type": "markdown",
   "metadata": {
    "slideshow": {
     "slide_type": "skip"
    }
   },
   "source": [
    "We developed the math in this chapter merely by reasoning about the information we have at each moment. In the process we discovered [*Bayes' Theorem*](https://en.wikipedia.org/wiki/Bayes%27_theorem) and the [*Total Probability Theorem*](https://en.wikipedia.org/wiki/Law_of_total_probability).\n",
    "\n",
    "Bayes theorem tells us how to compute the probability of an event given previous information. \n",
    "\n",
    "We implemented the `update()` function with this probability calculation:\n",
    "\n",
    "$$ \\mathtt{posterior} = \\frac{\\mathtt{likelihood}\\times \\mathtt{prior}}{\\mathtt{normalization\\, factor}}$$ \n",
    "\n",
    "We haven't developed the mathematics to discuss Bayes yet, but this is Bayes' theorem. Every filter in this book is an expression of Bayes' theorem. In the next chapter we will develop the mathematics, but in many ways that obscures the simple idea expressed in this equation:\n",
    "\n",
    "$$ updated\\,knowledge = \\big\\|likelihood\\,of\\,new\\,knowledge\\times prior\\, knowledge \\big\\|$$\n",
    "\n",
    "where $\\| \\cdot\\|$ expresses normalizing the term.\n",
    "\n",
    "We came to this with simple reasoning about a dog walking down a hallway. Yet, as we will see the same equation applies to a universe of filtering problems. We will use this equation in every subsequent chapter.\n",
    "\n",
    "Likewise, the `predict()` step computes the total probability of multiple possible events. This is known as the *Total Probability Theorem* in statistics, and we will also cover this in the next chapter after developing some supporting math.\n",
    "\n",
    "For now I need you to understand that Bayes' theorem is a formula to incorporate new information into existing information."
   ]
  },
  {
   "cell_type": "markdown",
   "metadata": {
    "slideshow": {
     "slide_type": "slide"
    }
   },
   "source": [
    "## Summary\n",
    "\n",
    "We have implemented a form of a Bayesian filter.\n",
    "\n",
    "We have learned how the predict step always degrades our knowledge, but the addition of another measurement, even when it might have noise in it, improves our knowledge, allowing us to converge on the most likely result.\n",
    "\n",
    "Kalman filter math is different, but the logic is exactly the same in this example. It uses Bayesian reasoning to form estimates from a combination of measurements and process models. \n",
    "\n",
    "**If you can understand this example you will be able to understand and implement Kalman filters.** If you grasp the fundamental insight&mdash;that multiplying probabilities when we measure, and shifting probabilities when we update leads to a converging solution&mdash;then after learning a bit of math you are ready to implement a Kalman filter."
   ]
  },
  {
   "cell_type": "markdown",
   "metadata": {
    "slideshow": {
     "slide_type": "notes"
    }
   },
   "source": [
    "## Summary\n",
    "\n",
    "The code is very short, but the result is impressive! We have implemented a form of a Bayesian filter. We have learned how to start with no information and derive information from noisy sensors. Even though the sensors in this chapter are very noisy (most sensors are more than 80% accurate, for example) we quickly converge on the most likely position for our dog. We have learned how the predict step always degrades our knowledge, but the addition of another measurement, even when it might have noise in it, improves our knowledge, allowing us to converge on the most likely result.\n",
    "\n",
    "This book is mostly about the Kalman filter. The math it uses is different, but the logic is exactly the same as used in this chapter. It uses Bayesian reasoning to form estimates from a combination of measurements and process models. \n",
    "\n",
    "**If you can understand this chapter you will be able to understand and implement Kalman filters.** I cannot stress this enough. If anything is murky, go back and reread this chapter and play with the code. The rest of this book will build on the algorithms that we use here. If you don't understand why this filter works you will have little success with the rest of the material. However, if you grasp the fundamental insight - multiplying probabilities when we measure, and shifting probabilities when we update leads to a converging solution - then after learning a bit of math you are ready to implement a Kalman filter."
   ]
  },
  {
   "cell_type": "markdown",
   "metadata": {
    "slideshow": {
     "slide_type": "slide"
    }
   },
   "source": [
    "## References\n",
    "\n",
    " * [1] D. Fox, W. Burgard, and S. Thrun. \"Monte carlo localization: Efficient position estimation for mobile robots.\" In *Journal of Artifical Intelligence Research*, 1999.\n",
    " \n",
    " http://www.cs.cmu.edu/afs/cs/project/jair/pub/volume11/fox99a-html/jair-localize.html\n",
    "\n",
    "\n",
    " * [2] Dieter Fox, et. al. \"Bayesian Filters for Location Estimation\". In *IEEE Pervasive Computing*, September 2003.\n",
    " \n",
    " http://swarmlab.unimaas.nl/wp-content/uploads/2012/07/fox2003bayesian.pdf\n",
    " \n",
    " \n",
    " * [3] Sebastian Thrun. \"Artificial Intelligence for Robotics\".\n",
    " \n",
    " https://www.udacity.com/course/cs373\n",
    " \n",
    " \n",
    " * [4] Khan Acadamy. \"Introduction to the Convolution\"\n",
    " \n",
    " https://www.khanacademy.org/math/differential-equations/laplace-transform/convolution-integral/v/introduction-to-the-convolution\n",
    " \n",
    " \n",
    "* [5] Wikipedia. \"Convolution\"\n",
    "\n",
    " http://en.wikipedia.org/wiki/Convolution\n",
    "\n",
    "* [6] Wikipedia. \"Law of total probability\"\n",
    "\n",
    "  http://en.wikipedia.org/wiki/Law_of_total_probability\n",
    "  \n",
    "* [7] Wikipedia. \"Time Evolution\"\n",
    "\n",
    " https://en.wikipedia.org/wiki/Time_evolution\n",
    " \n",
    "* [8] We need to rethink how we teach statistics from the ground up\n",
    " \n",
    " http://www.statslife.org.uk/opinion/2405-we-need-to-rethink-how-we-teach-statistics-from-the-ground-up"
   ]
  }
 ],
 "metadata": {
  "anaconda-cloud": {},
  "celltoolbar": "Slideshow",
  "kernelspec": {
   "display_name": "Python 3",
   "language": "python",
   "name": "python3"
  },
  "language_info": {
   "codemirror_mode": {
    "name": "ipython",
    "version": 3
   },
   "file_extension": ".py",
   "mimetype": "text/x-python",
   "name": "python",
   "nbconvert_exporter": "python",
   "pygments_lexer": "ipython3",
   "version": "3.7.4"
  },
  "widgets": {
   "application/vnd.jupyter.widget-state+json": {
    "state": {},
    "version_major": 2,
    "version_minor": 0
   }
  }
 },
 "nbformat": 4,
 "nbformat_minor": 4
}
